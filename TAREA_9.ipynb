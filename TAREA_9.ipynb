{
 "cells": [
  {
   "cell_type": "markdown",
   "metadata": {},
   "source": [
    "# Ejercicio 2\n",
    "Utiliza tu función derivadaNumerica para calcular la derivada de la función $\\cos$ en un punto $x_0\\in[0,1)$. Compara tu resultado con el que indica el cálculo exacto. Utiliza valores de $h$ cada vez más pequeños, grafica el comportamiento de la derivada y muestra como converge al valor exacto conforme tomamos $h$'s cada vez más pequeño. Para ello pueden graficar el resultado de la derivada numérica contra $1/h$. Observa el resultado de la aproximación y comenta. ¿El error es del orden de $h$?, para ver esto grafica el error relativo a $f'(x_0)$: $$\\epsilon=\\left|\\frac{\\Delta f(x_0,h)/h-f'(x_0)}{f'(x_0)}\\right|,$$ respecto a $h$."
   ]
  },
  {
   "cell_type": "code",
   "execution_count": 1,
   "metadata": {
    "collapsed": false
   },
   "outputs": [
    {
     "data": {
      "text/plain": [
       "f (generic function with 1 method)"
      ]
     },
     "execution_count": 1,
     "metadata": {},
     "output_type": "execute_result"
    }
   ],
   "source": [
    "f(x)=cos(x) "
   ]
  },
  {
   "cell_type": "code",
   "execution_count": 2,
   "metadata": {
    "collapsed": false
   },
   "outputs": [
    {
     "data": {
      "text/plain": [
       "derivada_Numerica (generic function with 1 method)"
      ]
     },
     "execution_count": 2,
     "metadata": {},
     "output_type": "execute_result"
    }
   ],
   "source": [
    "function derivada_Numerica(f,x,h)\n",
    "    df=(f(x+h)-f(x))/h #Corresponde a la expreión para calcular la derivada numerica\n",
    "return df\n",
    "end"
   ]
  },
  {
   "cell_type": "code",
   "execution_count": 3,
   "metadata": {
    "collapsed": false
   },
   "outputs": [
    {
     "data": {
      "text/plain": [
       "0.001:0.0006428571428571428:0.01"
      ]
     },
     "execution_count": 3,
     "metadata": {},
     "output_type": "execute_result"
    }
   ],
   "source": [
    "h=linspace(0.001,0.01,15) #Se tomó un intervalo para h con valores muy pequeños"
   ]
  },
  {
   "cell_type": "code",
   "execution_count": 32,
   "metadata": {
    "collapsed": false
   },
   "outputs": [
    {
     "data": {
      "text/plain": [
       "15-element Array{Float64,1}:\n",
       " 0.001     \n",
       " 0.00164286\n",
       " 0.00228571\n",
       " 0.00292857\n",
       " 0.00357143\n",
       " 0.00421429\n",
       " 0.00485714\n",
       " 0.0055    \n",
       " 0.00614286\n",
       " 0.00678571\n",
       " 0.00742857\n",
       " 0.00807143\n",
       " 0.00871429\n",
       " 0.00935714\n",
       " 0.01      "
      ]
     },
     "execution_count": 32,
     "metadata": {},
     "output_type": "execute_result"
    }
   ],
   "source": [
    "collect(h) #Se pueden observar los valores del intervalo donde se definió h"
   ]
  },
  {
   "cell_type": "code",
   "execution_count": 4,
   "metadata": {
    "collapsed": false
   },
   "outputs": [
    {
     "data": {
      "text/plain": [
       "15-element Array{Float64,1}:\n",
       " -0.783638\n",
       " -0.783837\n",
       " -0.784037\n",
       " -0.784236\n",
       " -0.784435\n",
       " -0.784634\n",
       " -0.784833\n",
       " -0.785032\n",
       " -0.785231\n",
       " -0.78543 \n",
       " -0.785629\n",
       " -0.785827\n",
       " -0.786025\n",
       " -0.786224\n",
       " -0.786422"
      ]
     },
     "execution_count": 4,
     "metadata": {},
     "output_type": "execute_result"
    }
   ],
   "source": [
    "listDS=derivada_Numerica.(f,0.9,h) #Se evalúo la derivada_Numerica en el punto x0=0.9 y se generó un resultado para cada valor de h que iba tomando la función."
   ]
  },
  {
   "cell_type": "code",
   "execution_count": 5,
   "metadata": {
    "collapsed": false
   },
   "outputs": [
    {
     "data": {
      "text/plain": [
       "derivada_exacta (generic function with 1 method)"
      ]
     },
     "execution_count": 5,
     "metadata": {},
     "output_type": "execute_result"
    }
   ],
   "source": [
    "#En esta parte se calcula la derivada exacta de la función f(x)=cos(x), para comparar más adelante con las aproximaciones de la derivada numérica.\n",
    "function derivada_exacta(x)\n",
    "    return dg=-sin(x)\n",
    "end"
   ]
  },
  {
   "cell_type": "code",
   "execution_count": 6,
   "metadata": {
    "collapsed": false
   },
   "outputs": [
    {
     "data": {
      "text/plain": [
       "-0.7833269096274834"
      ]
     },
     "execution_count": 6,
     "metadata": {},
     "output_type": "execute_result"
    }
   ],
   "source": [
    "derivada_exacta(0.9)"
   ]
  },
  {
   "cell_type": "code",
   "execution_count": 7,
   "metadata": {
    "collapsed": false
   },
   "outputs": [
    {
     "data": {
      "text/plain": [
       "G (generic function with 1 method)"
      ]
     },
     "execution_count": 7,
     "metadata": {},
     "output_type": "execute_result"
    }
   ],
   "source": [
    "G(x)=1/x #Se creó esta función para tener 1/h y así poder evaluar en esta función cada valor de h."
   ]
  },
  {
   "cell_type": "code",
   "execution_count": 8,
   "metadata": {
    "collapsed": false
   },
   "outputs": [
    {
     "data": {
      "text/plain": [
       "15-element Array{Float64,1}:\n",
       " 1000.0  \n",
       "  608.696\n",
       "  437.5  \n",
       "  341.463\n",
       "  280.0  \n",
       "  237.288\n",
       "  205.882\n",
       "  181.818\n",
       "  162.791\n",
       "  147.368\n",
       "  134.615\n",
       "  123.894\n",
       "  114.754\n",
       "  106.87 \n",
       "  100.0  "
      ]
     },
     "execution_count": 8,
     "metadata": {},
     "output_type": "execute_result"
    }
   ],
   "source": [
    "listG=G.(h) #Despliega una lista de los valores 1/h"
   ]
  },
  {
   "cell_type": "code",
   "execution_count": 9,
   "metadata": {
    "collapsed": false
   },
   "outputs": [
    {
     "name": "stderr",
     "output_type": "stream",
     "text": [
      "\u001b[1m\u001b[36mINFO: \u001b[39m\u001b[22m\u001b[36mPackage PyPlot is already installed\n",
      "\u001b[39m\u001b[1m\u001b[36mINFO: \u001b[39m\u001b[22m\u001b[36mMETADATA is out-of-date — you may not have the latest version of PyPlot\n",
      "\u001b[39m\u001b[1m\u001b[36mINFO: \u001b[39m\u001b[22m\u001b[36mUse `Pkg.update()` to get the latest versions of your packages\n",
      "\u001b[39m"
     ]
    }
   ],
   "source": [
    "Pkg.add(\"PyPlot\")"
   ]
  },
  {
   "cell_type": "code",
   "execution_count": 10,
   "metadata": {
    "collapsed": true
   },
   "outputs": [],
   "source": [
    "using PyPlot"
   ]
  },
  {
   "cell_type": "code",
   "execution_count": 11,
   "metadata": {
    "collapsed": false
   },
   "outputs": [
    {
     "data": {
      "text/plain": [
       "15-element Array{Float64,1}:\n",
       " -0.783327\n",
       " -0.783327\n",
       " -0.783327\n",
       " -0.783327\n",
       " -0.783327\n",
       " -0.783327\n",
       " -0.783327\n",
       " -0.783327\n",
       " -0.783327\n",
       " -0.783327\n",
       " -0.783327\n",
       " -0.783327\n",
       " -0.783327\n",
       " -0.783327\n",
       " -0.783327"
      ]
     },
     "execution_count": 11,
     "metadata": {},
     "output_type": "execute_result"
    }
   ],
   "source": [
    "Y=ones(length(listG)).*-sin(0.9) #Esta varibale funciona para representar en la gráfica como las aproximaciones de la derivada numerica van convergiendo al valor de la derivada exacta."
   ]
  },
  {
   "cell_type": "code",
   "execution_count": 12,
   "metadata": {
    "collapsed": false
   },
   "outputs": [
    {
     "data": {
      "image/png": "[encoded data removed]",
      "text/plain": [
       "PyPlot.Figure(PyObject <matplotlib.figure.Figure object at 0x7f834f023150>)"
      ]
     },
     "metadata": {},
     "output_type": "display_data"
    },
    {
     "data": {
      "text/plain": [
       "1-element Array{Any,1}:\n",
       " PyObject <matplotlib.lines.Line2D object at 0x7f8374e5ee90>"
      ]
     },
     "execution_count": 12,
     "metadata": {},
     "output_type": "execute_result"
    }
   ],
   "source": [
    "plot(listG,listDS) #Gráfica en color azul representa el comportamiento del resultado de la derivada numérica contra $1/h$\n",
    "plot(listG,Y) #Gráfica en color naranja representa como las aproximaciones de la derivada numérica van convergiendo al valor de la derivada exacta que en este caso fue de -0.7833269096274834."
   ]
  },
  {
   "cell_type": "code",
   "execution_count": 13,
   "metadata": {
    "collapsed": false
   },
   "outputs": [
    {
     "data": {
      "text/plain": [
       "error_relativo (generic function with 1 method)"
      ]
     },
     "execution_count": 13,
     "metadata": {},
     "output_type": "execute_result"
    }
   ],
   "source": [
    "#Para conocer el error relativo de las proximaciones al valor de la derivada exacta se utilizó la siguiente expresión\n",
    "function error_relativo(f,x,h)\n",
    "    e=abs((((f(x+h)-f(x))/h)-derivada_exacta(x))/derivada_exacta(x))\n",
    "return e\n",
    "end"
   ]
  },
  {
   "cell_type": "code",
   "execution_count": 14,
   "metadata": {
    "collapsed": false
   },
   "outputs": [
    {
     "data": {
      "text/plain": [
       "15-element Array{Float64,1}:\n",
       " 0.000396609\n",
       " 0.000651396\n",
       " 0.000906044\n",
       " 0.00116056 \n",
       " 0.00141493 \n",
       " 0.00166916 \n",
       " 0.00192326 \n",
       " 0.00217722 \n",
       " 0.00243104 \n",
       " 0.00268472 \n",
       " 0.00293826 \n",
       " 0.00319167 \n",
       " 0.00344494 \n",
       " 0.00369807 \n",
       " 0.00395106 "
      ]
     },
     "execution_count": 14,
     "metadata": {},
     "output_type": "execute_result"
    }
   ],
   "source": [
    "E=error_relativo.(f,0.9,h) #Se evalúa el valor de x=0.9 en la función E para cada valor de h"
   ]
  },
  {
   "cell_type": "code",
   "execution_count": 15,
   "metadata": {
    "collapsed": false
   },
   "outputs": [
    {
     "data": {
      "image/png": "[encoded data removed]",
      "text/plain": [
       "PyPlot.Figure(PyObject <matplotlib.figure.Figure object at 0x7f834ce80a50>)"
      ]
     },
     "metadata": {},
     "output_type": "display_data"
    },
    {
     "data": {
      "text/plain": [
       "1-element Array{Any,1}:\n",
       " PyObject <matplotlib.lines.Line2D object at 0x7f834cdc0e90>"
      ]
     },
     "execution_count": 15,
     "metadata": {},
     "output_type": "execute_result"
    }
   ],
   "source": [
    "plot(h,E) #Esta gráfica corresponde variación lineal que hay entre el error relativo y el valor de la h."
   ]
  },
  {
   "cell_type": "markdown",
   "metadata": {},
   "source": [
    "# Ejercicio 3\n",
    "Teniendo en mente la serie de Taylor para $f(x+h)$ ¿existe alguna forma de mejorar el cálculo de la derivada numérica? Comenta."
   ]
  },
  {
   "cell_type": "markdown",
   "metadata": {},
   "source": [
    "Por un lado sabemos que la derivada numérica tiene un error del orden de $h$.\n",
    "\n",
    "$$\\frac{\\Delta f(x,h)}{h}-f'(x)=\\mathcal{O}(h)$$  (1)\n",
    "\n",
    "mientras que para la derivada simetrica se tiene un error del orden dado por:\n",
    "\n",
    "$$\\frac{f(x+h)-f(x-h)}{2h}-f'(x)=\\mathcal{O}(h^2)$$  (2)\n",
    "\n",
    "Se podrían combinar ambas ecuaciones para ver la relación que hay con los tipos de derivadas y con ello poder despejar $f'(x)$\n",
    "\n",
    "De la ecuación 2 despejamos $f(x+h)$\n",
    "\n",
    "$$f(x+h)=2h[\\mathcal{O}(h^2)+f'(x)]+f(x-h)$$\n",
    "\n",
    "Luego sustituimos $f(x+h)$ en la ecuación 1\n",
    "\n",
    "$$\\frac{2h[\\mathcal{O}(h^2)+f'(x)]+f(x-h)-f(x)}{h}-f'(x)=\\mathcal{O}(h)$$ (3)\n",
    "\n",
    "de la ecuación (3) despejamos $f'(x)$, entonces\n",
    "\n",
    "$$2h[\\mathcal{O}(h^2)+f'(x)]+f(x-h)-f(x)-hf'(x)=h\\mathcal{O}(h)$$\n",
    "\n",
    "$$2hf'(x)-hf'(x)=h\\mathcal{O}(h)-2h\\mathcal{O}(h^2)-f(x-h)+f(x)$$\n",
    "\n",
    "$$f'(x)=\\frac{h\\mathcal{O}(h)-2h\\mathcal{O}(h^2)-f(x-h)+f(x)}{h}$$\n",
    "\n",
    "\n"
   ]
  },
  {
   "cell_type": "markdown",
   "metadata": {},
   "source": [
    "Pregunta: ¿Hay una forma de construir una derivada numérica aún mas exacta sin tener que hacer $h$ arbitrariamente pequeño?, ¿que opinas?\n",
    "\n",
    "Se podría interpolar con Lagrange para obtener un polinomio de grado 1, el cual corresponderia a una recta que pase por el punto donde esta definida la deriva, y así poder obtener la pendiente de la recta dada por la interpolación; ya que la definicón de derivada precisamente corresponde con la pendiente de la recta tangente a la gráfica de la función en dicho punto. "
   ]
  },
  {
   "cell_type": "markdown",
   "metadata": {},
   "source": [
    "# Ejercicio 4\n",
    "Implementa la derivada simétrica en Julia como derivada_Simetrica y repite la comparativa que realizaste en el ejercicio 2."
   ]
  },
  {
   "cell_type": "code",
   "execution_count": 16,
   "metadata": {
    "collapsed": false
   },
   "outputs": [
    {
     "data": {
      "text/plain": [
       "f (generic function with 1 method)"
      ]
     },
     "execution_count": 16,
     "metadata": {},
     "output_type": "execute_result"
    }
   ],
   "source": [
    "f(x)=cos(x)"
   ]
  },
  {
   "cell_type": "code",
   "execution_count": 17,
   "metadata": {
    "collapsed": false
   },
   "outputs": [
    {
     "data": {
      "text/plain": [
       "derivada_Simetrica (generic function with 1 method)"
      ]
     },
     "execution_count": 17,
     "metadata": {},
     "output_type": "execute_result"
    }
   ],
   "source": [
    "function derivada_Simetrica(f,x,h)\n",
    "    df=(f(x+h)-f(x-h))/2h \n",
    "return df\n",
    "end"
   ]
  },
  {
   "cell_type": "code",
   "execution_count": 18,
   "metadata": {
    "collapsed": false
   },
   "outputs": [
    {
     "data": {
      "text/plain": [
       "0.001:0.0006428571428571428:0.01"
      ]
     },
     "execution_count": 18,
     "metadata": {},
     "output_type": "execute_result"
    }
   ],
   "source": [
    "h=linspace(0.001,0.01,15) #Se tomó un intervalo para h con valores muy pequeños"
   ]
  },
  {
   "cell_type": "code",
   "execution_count": 19,
   "metadata": {
    "collapsed": false
   },
   "outputs": [
    {
     "data": {
      "text/plain": [
       "15-element Array{Float64,1}:\n",
       " 0.001     \n",
       " 0.00164286\n",
       " 0.00228571\n",
       " 0.00292857\n",
       " 0.00357143\n",
       " 0.00421429\n",
       " 0.00485714\n",
       " 0.0055    \n",
       " 0.00614286\n",
       " 0.00678571\n",
       " 0.00742857\n",
       " 0.00807143\n",
       " 0.00871429\n",
       " 0.00935714\n",
       " 0.01      "
      ]
     },
     "execution_count": 19,
     "metadata": {},
     "output_type": "execute_result"
    }
   ],
   "source": [
    "collect(h) #Se pueden observar los valores del intervalo donde se definió h"
   ]
  },
  {
   "cell_type": "code",
   "execution_count": 20,
   "metadata": {
    "collapsed": false
   },
   "outputs": [
    {
     "data": {
      "text/plain": [
       "15-element Array{Float64,1}:\n",
       " -0.783327\n",
       " -0.783327\n",
       " -0.783326\n",
       " -0.783326\n",
       " -0.783325\n",
       " -0.783325\n",
       " -0.783324\n",
       " -0.783323\n",
       " -0.783322\n",
       " -0.783321\n",
       " -0.78332 \n",
       " -0.783318\n",
       " -0.783317\n",
       " -0.783315\n",
       " -0.783314"
      ]
     },
     "execution_count": 20,
     "metadata": {},
     "output_type": "execute_result"
    }
   ],
   "source": [
    "listDS=derivada_Simetrica.(f,0.9,h) #Se evalúo la derivada_Simetria en el punto x0=0.9 y se generó un resultado para cada valor de h que iba tomando la función."
   ]
  },
  {
   "cell_type": "code",
   "execution_count": 21,
   "metadata": {
    "collapsed": false
   },
   "outputs": [
    {
     "data": {
      "text/plain": [
       "derivada_exacta (generic function with 1 method)"
      ]
     },
     "execution_count": 21,
     "metadata": {},
     "output_type": "execute_result"
    }
   ],
   "source": [
    "#En esta parte se calcula la derivada exacta de la función f(x)=cos(x), para comparar más adelante con las aproximaciones de la derivada simétrica.\n",
    "function derivada_exacta(x)\n",
    "    return dg=-sin(x)\n",
    "end"
   ]
  },
  {
   "cell_type": "code",
   "execution_count": 22,
   "metadata": {
    "collapsed": false
   },
   "outputs": [
    {
     "data": {
      "text/plain": [
       "-0.7833269096274834"
      ]
     },
     "execution_count": 22,
     "metadata": {},
     "output_type": "execute_result"
    }
   ],
   "source": [
    "derivada_exacta(0.9)"
   ]
  },
  {
   "cell_type": "code",
   "execution_count": 23,
   "metadata": {
    "collapsed": false
   },
   "outputs": [
    {
     "data": {
      "text/plain": [
       "G (generic function with 1 method)"
      ]
     },
     "execution_count": 23,
     "metadata": {},
     "output_type": "execute_result"
    }
   ],
   "source": [
    "G(x)=1/x #Se creó esta función para tener 1/h y así poder evaluar en esta función cada valor de h."
   ]
  },
  {
   "cell_type": "code",
   "execution_count": 24,
   "metadata": {
    "collapsed": false
   },
   "outputs": [
    {
     "data": {
      "text/plain": [
       "15-element Array{Float64,1}:\n",
       " 1000.0  \n",
       "  608.696\n",
       "  437.5  \n",
       "  341.463\n",
       "  280.0  \n",
       "  237.288\n",
       "  205.882\n",
       "  181.818\n",
       "  162.791\n",
       "  147.368\n",
       "  134.615\n",
       "  123.894\n",
       "  114.754\n",
       "  106.87 \n",
       "  100.0  "
      ]
     },
     "execution_count": 24,
     "metadata": {},
     "output_type": "execute_result"
    }
   ],
   "source": [
    "listG=G.(h) #Despliega una lista de los valores 1/h"
   ]
  },
  {
   "cell_type": "code",
   "execution_count": 25,
   "metadata": {
    "collapsed": false
   },
   "outputs": [
    {
     "name": "stderr",
     "output_type": "stream",
     "text": [
      "\u001b[1m\u001b[36mINFO: \u001b[39m\u001b[22m\u001b[36mPackage PyPlot is already installed\n",
      "\u001b[39m\u001b[1m\u001b[36mINFO: \u001b[39m\u001b[22m\u001b[36mMETADATA is out-of-date — you may not have the latest version of PyPlot\n",
      "\u001b[39m\u001b[1m\u001b[36mINFO: \u001b[39m\u001b[22m\u001b[36mUse `Pkg.update()` to get the latest versions of your packages\n",
      "\u001b[39m"
     ]
    }
   ],
   "source": [
    "Pkg.add(\"PyPlot\")"
   ]
  },
  {
   "cell_type": "code",
   "execution_count": 26,
   "metadata": {
    "collapsed": true
   },
   "outputs": [],
   "source": [
    "using PyPlot"
   ]
  },
  {
   "cell_type": "code",
   "execution_count": 27,
   "metadata": {
    "collapsed": false
   },
   "outputs": [
    {
     "data": {
      "text/plain": [
       "15-element Array{Float64,1}:\n",
       " -0.783327\n",
       " -0.783327\n",
       " -0.783327\n",
       " -0.783327\n",
       " -0.783327\n",
       " -0.783327\n",
       " -0.783327\n",
       " -0.783327\n",
       " -0.783327\n",
       " -0.783327\n",
       " -0.783327\n",
       " -0.783327\n",
       " -0.783327\n",
       " -0.783327\n",
       " -0.783327"
      ]
     },
     "execution_count": 27,
     "metadata": {},
     "output_type": "execute_result"
    }
   ],
   "source": [
    "Y=ones(length(listG)).*-sin(0.9) #Esta varibale funciona para representar en la gráfica como las aproximaciones de la derivada simetrica van convergiendo al valor de la derivada exacta."
   ]
  },
  {
   "cell_type": "code",
   "execution_count": 28,
   "metadata": {
    "collapsed": false
   },
   "outputs": [
    {
     "data": {
      "image/png": "[encoded data removed]",
      "text/plain": [
       "PyPlot.Figure(PyObject <matplotlib.figure.Figure object at 0x7f834cd88f90>)"
      ]
     },
     "metadata": {},
     "output_type": "display_data"
    },
    {
     "data": {
      "text/plain": [
       "1-element Array{Any,1}:\n",
       " PyObject <matplotlib.lines.Line2D object at 0x7f834cd06d90>"
      ]
     },
     "execution_count": 28,
     "metadata": {},
     "output_type": "execute_result"
    }
   ],
   "source": [
    "plot(listG,listDS) #Gráfica en color azul representa el comportamiento del resultado de la derivada simétrica contra $1/h$\n",
    "plot(listG,Y) #Gráfica en color naranja representa como las aproximaciones de la derivada simética van convergiendo al valor de la derivada exacta que en este caso fue de -0.7833269096274834."
   ]
  },
  {
   "cell_type": "code",
   "execution_count": 29,
   "metadata": {
    "collapsed": false
   },
   "outputs": [
    {
     "data": {
      "text/plain": [
       "error_relativo (generic function with 1 method)"
      ]
     },
     "execution_count": 29,
     "metadata": {},
     "output_type": "execute_result"
    }
   ],
   "source": [
    "#Para conocer el error relativo de las proximaciones al valor de la derivada exacta se utilizó la siguiente expresión\n",
    "function error_relativo(f,x,h)\n",
    "    e=abs((((f(x+h)-f(x-h))/2h)-derivada_exacta(x))/derivada_exacta(x))\n",
    "return e\n",
    "end"
   ]
  },
  {
   "cell_type": "code",
   "execution_count": 30,
   "metadata": {
    "collapsed": false
   },
   "outputs": [
    {
     "data": {
      "text/plain": [
       "15-element Array{Float64,1}:\n",
       " 1.66667e-7\n",
       " 4.4983e-7 \n",
       " 8.70748e-7\n",
       " 1.42942e-6\n",
       " 2.12585e-6\n",
       " 2.96003e-6\n",
       " 3.93197e-6\n",
       " 5.04166e-6\n",
       " 6.2891e-6 \n",
       " 7.6743e-6 \n",
       " 9.19725e-6\n",
       " 1.0858e-5 \n",
       " 1.26564e-5\n",
       " 1.45926e-5\n",
       " 1.66666e-5"
      ]
     },
     "execution_count": 30,
     "metadata": {},
     "output_type": "execute_result"
    }
   ],
   "source": [
    "E=error_relativo.(f,0.9,h) #Se evalúa el valor de x=0.9 en la función E para cada valor de h"
   ]
  },
  {
   "cell_type": "code",
   "execution_count": 31,
   "metadata": {
    "collapsed": false
   },
   "outputs": [
    {
     "data": {
      "image/png": "[encoded data removed]",
      "text/plain": [
       "PyPlot.Figure(PyObject <matplotlib.figure.Figure object at 0x7f834cc58090>)"
      ]
     },
     "metadata": {},
     "output_type": "display_data"
    },
    {
     "data": {
      "text/plain": [
       "1-element Array{Any,1}:\n",
       " PyObject <matplotlib.lines.Line2D object at 0x7f834cc45f90>"
      ]
     },
     "execution_count": 31,
     "metadata": {},
     "output_type": "execute_result"
    }
   ],
   "source": [
    "plot(h,E) #Esta gráfica corresponde variación no lineal que hay entre el error relativo y el valor de la h. Se observa que conforme aumenta h el error crece también pero ya no de forma lineal como en le caso de la Derivada Numérica."
   ]
  },
  {
   "cell_type": "markdown",
   "metadata": {},
   "source": [
    "# Ejercicio 5\n",
    "Demuestre que $\\Delta_h$ es un operador lineal y que podemos \"factorizar\" la función a la derecha del operador. Hecho esto podemos quitar de ambos lados la función $f$ para obtener lo siguiente: $$\\Delta_h=\\sum_{n=1}^{\\infty} \\frac{1}{n!}h^n\\left.\\frac{d^n}{d\\xi^n}\\right|_{\\substack{ \\xi=x }}$$"
   ]
  },
  {
   "cell_type": "markdown",
   "metadata": {},
   "source": [
    "Para ver que $\\Delta_h:f \\mapsto f(x+h)-f(x)=\\Delta f(x,h)$ es un operador lineal tiene que cumplir con lo siguiente:\n",
    "\n",
    "$$\\Delta_h(a_1\\phi_1(x)+a_2\\phi_2(x))=\\Delta{a_1\\phi_1(x,h)}+\\Delta{a_2\\phi_2(x,h)}$$\n",
    "\n",
    "$$\\Delta_h(a_1\\phi_1(x)+a_2\\phi_2(x))=\\Delta_h{a_1\\phi_1(x)}+\\Delta_h{a_2\\phi_2(x)}$$\n",
    "\n",
    "Dado que $\\Delta{f(x)}=\\Delta{f(x,h)}$ y se considera la relación entra ambas, entonces se tiene:\n",
    "\n",
    "$$=\\Delta_h{a_1\\phi_1(x+h)}+\\Delta_h{a_2\\phi_2(x+h)}-a_1\\phi_1(x)-a_2\\phi_2(x)$$\n",
    "\n",
    "$$=\\Delta_h{a_1\\phi_1(x,h)}+\\Delta_h{a_2\\phi_2(x,h)}$$\n",
    "\n",
    "Por lo tanto $\\Delta_h$ es un operador lineal, de tal forma que\n",
    "\n",
    "$$\\Delta_h{f(x)}=\\Delta_h=[\\sum_{n=1}^{\\infty} \\frac{1}{n!}h^n\\left.\\frac{d^n}{d\\xi^n}\\right|_{\\substack{ \\xi=x }}]f(x)$$\n",
    "\n",
    "De la ecuación anterior factorizamos la función $f(x)$ del operador $\\Delta_h$, entonces\n",
    "\n",
    "$$\\Delta_h=\\sum_{n=1}^{\\infty} \\frac{1}{n!}h^n\\left.\\frac{d^n}{d\\xi^n}\\right|_{\\substack{ \\xi=x }}$$\n"
   ]
  },
  {
   "cell_type": "markdown",
   "metadata": {},
   "source": [
    "# Ejericico 6\n",
    "Para saber como se relaciona el operador derivada exacta con el operador diferencia finita hacia adelante es necesario invertir la serie $\\Delta_h=\\sum_{n=1}^{\\infty} \\frac{1}{n!}h^n\\left.\\frac{d^n}{d\\xi^n}\\right|_{\\substack{ \\xi=x }}$. Una forma directa de hacerlo es identificar la función para la cual es esa serie. Entonces, pensando en el operador derivada como un número, la serie se identifica como función evaluada en $\\left. h\\frac{d}{d_\\xi}\\right|_{\\substack{ \\xi=x }}$, ¿cual es esa función?. Si llamamos $\\phi$ a dicha función, deberiamos de tener una relación de la siguiente forma: $$\\Delta_h=\\phi\\left(h\\left.\\frac{d}{d\\xi}\\right|_{\\substack{ \\xi=x }}\\right)$$"
   ]
  },
  {
   "cell_type": "markdown",
   "metadata": {},
   "source": [
    "Solución.\n",
    "\n",
    "Sea $x=h\\left. \\frac{d}{d\\xi}\\right|_{\\xi=x}$\n",
    "\n",
    "El operador diferencia finita hacia adelante $\\Delta_h$, el cual se define como:\n",
    "\n",
    "$$\\Delta_h=f(x+h)-f(x)$$\n",
    "\n",
    "Se hace un desarrollo en serie de Taylor para obtener $f(x+h)$, entonces nos queda la siguiente expresión:\n",
    "\n",
    "$$f(x+h)=f{\\left (x \\right )} + h \\left. \\frac{d}{d \\xi} f{\\left (\\xi \\right )} \\right|_{\\substack{ \\xi=x }} + \\frac{h^{2}}{2} \\left. \\frac{d^{2}}{d \\xi^{2}}  f{\\left (\\xi \\right )} \\right|_{\\substack{ \\xi=x }} + \\frac{h^{3}}{6} \\left. \\frac{d^{3}}{d \\xi^{3}}  f{\\left (\\xi \\right )} \\right|_{\\substack{ \\xi=x }} + \\mathcal{O}\\left(h^{4}\\right)$$\n",
    "\n",
    "La expresión $f(x+h)$ la sustituimos en la ecuaucón $\\Delta_h$, por lo tanto\n",
    "\n",
    "$$\\Delta_h=h \\left. \\frac{d}{d \\xi} f{\\left (\\xi \\right )} \\right|_{\\substack{ \\xi=x }} + \\frac{h^{2}}{2} \\left. \\frac{d^{2}}{d \\xi^{2}}  f{\\left (\\xi \\right )} \\right|_{\\substack{ \\xi=x }} + \\frac{h^{3}}{6} \\left. \\frac{d^{3}}{d \\xi^{3}}  f{\\left (\\xi \\right )} \\right|_{\\substack{ \\xi=x }} + \\mathcal{O}\\left(h^{4}\\right)$$\n",
    "\n",
    "Del desarrollo en serie de potencias de la expresion para $\\Delta_h$ se observa que la serie lleva un comporatamiento parecido al de la función exponencial desarrollada en serie de Taylor, con la difrencia de un menos uno.\n",
    "\n",
    "$$e^{x}=1+x+\\frac{x^2}{2}+\\frac{x^3}{6}+\\frac{x^4}{24}+\\mathcal{O}\\left(h^{5}\\right)$$\n",
    "\n",
    "donde $x=h\\left. \\frac{d}{d\\xi}\\right|_{\\xi=x}$, sustituyendo sumando un -1 a la serie de la expoencial llegamos a\n",
    "\n",
    "$$\\Delta_h=e^{x}-1$$"
   ]
  },
  {
   "cell_type": "markdown",
   "metadata": {},
   "source": []
  }
 ],
 "metadata": {
  "kernelspec": {
   "display_name": "Julia 0.6.0",
   "language": "julia",
   "name": "julia-0.6"
  },
  "language_info": {
   "file_extension": ".jl",
   "mimetype": "application/julia",
   "name": "julia",
   "version": "0.6.0"
  }
 },
 "nbformat": 4,
 "nbformat_minor": 2
}
