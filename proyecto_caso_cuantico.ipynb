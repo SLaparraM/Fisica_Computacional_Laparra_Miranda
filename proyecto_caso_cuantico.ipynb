{
 "cells": [
  {
   "cell_type": "code",
   "execution_count": 1,
   "metadata": {},
   "outputs": [
    {
     "data": {
      "text/plain": [
       "posicion_x (generic function with 1 method)"
      ]
     },
     "execution_count": 1,
     "metadata": {},
     "output_type": "execute_result"
    }
   ],
   "source": [
    "function posicion_x(x,k)\n",
    "    X=Int64[]\n",
    "   for i in 1:k\n",
    "    if x==i\n",
    "        y=1\n",
    "    elseif x!=i\n",
    "        y=0\n",
    "        \n",
    "    end\n",
    "        push!(X,y)\n",
    "    end\n",
    "    return X\n",
    "end"
   ]
  },
  {
   "cell_type": "code",
   "execution_count": 3,
   "metadata": {},
   "outputs": [
    {
     "data": {
      "text/plain": [
       "10-element Array{Int64,1}:\n",
       " 0\n",
       " 0\n",
       " 0\n",
       " 1\n",
       " 0\n",
       " 0\n",
       " 0\n",
       " 0\n",
       " 0\n",
       " 0"
      ]
     },
     "execution_count": 3,
     "metadata": {},
     "output_type": "execute_result"
    }
   ],
   "source": [
    "posicion_x(4,10)"
   ]
  },
  {
   "cell_type": "code",
   "execution_count": 4,
   "metadata": {},
   "outputs": [
    {
     "data": {
      "text/plain": [
       "lista_x (generic function with 1 method)"
      ]
     },
     "execution_count": 4,
     "metadata": {},
     "output_type": "execute_result"
    }
   ],
   "source": [
    "function lista_x(n,k) \n",
    "    listx=Array{Int64,1}[]\n",
    "for i in 1:n\n",
    "        d=posicion_x(i,k)\n",
    "        \n",
    "     push!(listx,d) \n",
    "end\n",
    "    return listx\n",
    "    end"
   ]
  },
  {
   "cell_type": "code",
   "execution_count": 15,
   "metadata": {},
   "outputs": [
    {
     "data": {
      "text/plain": [
       "100-element Array{Array{Int64,1},1}:\n",
       " [1,0,0,0,0,0,0,0,0,0  …  0,0,0,0,0,0,0,0,0,0]\n",
       " [0,1,0,0,0,0,0,0,0,0  …  0,0,0,0,0,0,0,0,0,0]\n",
       " [0,0,1,0,0,0,0,0,0,0  …  0,0,0,0,0,0,0,0,0,0]\n",
       " [0,0,0,1,0,0,0,0,0,0  …  0,0,0,0,0,0,0,0,0,0]\n",
       " [0,0,0,0,1,0,0,0,0,0  …  0,0,0,0,0,0,0,0,0,0]\n",
       " [0,0,0,0,0,1,0,0,0,0  …  0,0,0,0,0,0,0,0,0,0]\n",
       " [0,0,0,0,0,0,1,0,0,0  …  0,0,0,0,0,0,0,0,0,0]\n",
       " [0,0,0,0,0,0,0,1,0,0  …  0,0,0,0,0,0,0,0,0,0]\n",
       " [0,0,0,0,0,0,0,0,1,0  …  0,0,0,0,0,0,0,0,0,0]\n",
       " [0,0,0,0,0,0,0,0,0,1  …  0,0,0,0,0,0,0,0,0,0]\n",
       " [0,0,0,0,0,0,0,0,0,0  …  0,0,0,0,0,0,0,0,0,0]\n",
       " [0,0,0,0,0,0,0,0,0,0  …  0,0,0,0,0,0,0,0,0,0]\n",
       " [0,0,0,0,0,0,0,0,0,0  …  0,0,0,0,0,0,0,0,0,0]\n",
       " ⋮                                            \n",
       " [0,0,0,0,0,0,0,0,0,0  …  0,0,0,0,0,0,0,0,0,0]\n",
       " [0,0,0,0,0,0,0,0,0,0  …  0,0,0,0,0,0,0,0,0,0]\n",
       " [0,0,0,0,0,0,0,0,0,0  …  1,0,0,0,0,0,0,0,0,0]\n",
       " [0,0,0,0,0,0,0,0,0,0  …  0,1,0,0,0,0,0,0,0,0]\n",
       " [0,0,0,0,0,0,0,0,0,0  …  0,0,1,0,0,0,0,0,0,0]\n",
       " [0,0,0,0,0,0,0,0,0,0  …  0,0,0,1,0,0,0,0,0,0]\n",
       " [0,0,0,0,0,0,0,0,0,0  …  0,0,0,0,1,0,0,0,0,0]\n",
       " [0,0,0,0,0,0,0,0,0,0  …  0,0,0,0,0,1,0,0,0,0]\n",
       " [0,0,0,0,0,0,0,0,0,0  …  0,0,0,0,0,0,1,0,0,0]\n",
       " [0,0,0,0,0,0,0,0,0,0  …  0,0,0,0,0,0,0,1,0,0]\n",
       " [0,0,0,0,0,0,0,0,0,0  …  0,0,0,0,0,0,0,0,1,0]\n",
       " [0,0,0,0,0,0,0,0,0,0  …  0,0,0,0,0,0,0,0,0,1]"
      ]
     },
     "execution_count": 15,
     "metadata": {},
     "output_type": "execute_result"
    }
   ],
   "source": [
    "listx=lista_x(100,100) "
   ]
  },
  {
   "cell_type": "code",
   "execution_count": 17,
   "metadata": {},
   "outputs": [
    {
     "data": {
      "text/plain": [
       "100-element Array{Int64,1}:\n",
       " 0\n",
       " 0\n",
       " 1\n",
       " 0\n",
       " 0\n",
       " 0\n",
       " 0\n",
       " 0\n",
       " 0\n",
       " 0\n",
       " 0\n",
       " 0\n",
       " 0\n",
       " ⋮\n",
       " 0\n",
       " 0\n",
       " 0\n",
       " 0\n",
       " 0\n",
       " 0\n",
       " 0\n",
       " 0\n",
       " 0\n",
       " 0\n",
       " 0\n",
       " 0"
      ]
     },
     "execution_count": 17,
     "metadata": {},
     "output_type": "execute_result"
    }
   ],
   "source": [
    "listx[3]"
   ]
  },
  {
   "cell_type": "code",
   "execution_count": 21,
   "metadata": {},
   "outputs": [
    {
     "name": "stderr",
     "output_type": "stream",
     "text": [
      "WARNING: Method definition c_cuantico(Any) in module Main at In[19]:2 overwritten at In[21]:2.\n"
     ]
    },
    {
     "data": {
      "text/plain": [
       "c_cuantico (generic function with 1 method)"
      ]
     },
     "execution_count": 21,
     "metadata": {},
     "output_type": "execute_result"
    }
   ],
   "source": [
    "function c_cuantico(u)\n",
    "   sa=[1,0] \n",
    "    x=kron(u',sa')\n",
    "    return x\n",
    "    end"
   ]
  },
  {
   "cell_type": "code",
   "execution_count": 22,
   "metadata": {},
   "outputs": [
    {
     "data": {
      "text/plain": [
       "1×200 Array{Int64,2}:\n",
       " 0  0  1  0  0  0  0  0  0  0  0  0  0  …  0  0  0  0  0  0  0  0  0  0  0  0"
      ]
     },
     "execution_count": 22,
     "metadata": {},
     "output_type": "execute_result"
    }
   ],
   "source": [
    "c_cuantico(listx[2])"
   ]
  },
  {
   "cell_type": "code",
   "execution_count": null,
   "metadata": {},
   "outputs": [],
   "source": []
  }
 ],
 "metadata": {
  "kernelspec": {
   "display_name": "Julia 0.5.2",
   "language": "julia",
   "name": "julia-0.5"
  },
  "language_info": {
   "file_extension": ".jl",
   "mimetype": "application/julia",
   "name": "julia",
   "version": "0.5.2"
  }
 },
 "nbformat": 4,
 "nbformat_minor": 2
}
