{
 "cells": [
  {
   "cell_type": "code",
   "execution_count": 65,
   "metadata": {
    "collapsed": false
   },
   "outputs": [
    {
     "data": {
      "text/plain": [
       "raices (generic function with 3 methods)"
      ]
     },
     "execution_count": 65,
     "metadata": {},
     "output_type": "execute_result"
    }
   ],
   "source": [
    "#Calcula las raices para el pozo finito cuadrado con A=10.0\n",
    "\n",
    "function raices(s)\n",
    "    x=s; #Se ingresa el valor aproximado de la ráiz\n",
    "    f(x)=x*tan(x)-sqrt(complex(10.0-x^2))+im -im;\n",
    "    df=complex(x*sec(x)^2+x/sqrt(complex(10.0-x^2))+tan(x)) #Se deriva la función f con respecto a x\n",
    "    \n",
    "    #inicializamos las variables\n",
    "    error::Float64=10e-14;\n",
    "    tolerancia::Float64=10e-7;\n",
    "    \n",
    "    while error>=tolerancia #Condicón de terminación cuando el error sea menor a la tolerancia\n",
    "        x1=x-f(x)/df; #Fórmula del Método de Newton\n",
    "        error=(x1-x)/x1; #Cálculo del error\n",
    "        x=x1; #Asignación del nuevo valor de x para la siguiente iteración\n",
    "    return x1, f(x)\n",
    "    end\n",
    "end\n",
    "       "
   ]
  },
  {
   "cell_type": "code",
   "execution_count": 66,
   "metadata": {
    "collapsed": true
   },
   "outputs": [],
   "source": [
    "raices(3.1)"
   ]
  },
  {
   "cell_type": "code",
   "execution_count": null,
   "metadata": {
    "collapsed": true
   },
   "outputs": [],
   "source": []
  }
 ],
 "metadata": {
  "kernelspec": {
   "display_name": "Julia 0.6.0",
   "language": "julia",
   "name": "julia-0.6"
  },
  "language_info": {
   "file_extension": ".jl",
   "mimetype": "application/julia",
   "name": "julia",
   "version": "0.6.0"
  }
 },
 "nbformat": 4,
 "nbformat_minor": 2
}
