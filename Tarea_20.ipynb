{
 "cells": [
  {
   "cell_type": "markdown",
   "metadata": {},
   "source": [
    "# Ejercicio 1\n",
    "\n",
    "Crear una rutina que construya $A$ y $\\vec b$ para este sistema. Resuelvalo utilizando la función inv y grafique $\\vec f$ utilizando la funcion pcolormesh. Recuerde que aqui $\\vec f$ es un vector, para volverlo de nuevo una matriz con entradas $f_{i,j}$ pueden usar la función reshape.\n",
    "\n",
    "Soluciòn\n",
    "En las siguientes rutinas se obtuvieron los elementos de las diagonales que forman a la matriz $A$, posteriormente se crea otra para obtener el vector $\\vec b$."
   ]
  },
  {
   "cell_type": "code",
   "execution_count": 1,
   "metadata": {},
   "outputs": [
    {
     "data": {
      "text/plain": [
       "diagonal (generic function with 1 method)"
      ]
     },
     "execution_count": 1,
     "metadata": {},
     "output_type": "execute_result"
    }
   ],
   "source": [
    "#Con esta rutina se crean los elementos de la diagonal principal de la matriz A\n",
    "function diagonal(k)\n",
    "    a=Int64[]\n",
    "    for i in 1:15\n",
    "    x=k\n",
    "    push!(a,x)\n",
    "    end\n",
    "    return a\n",
    "end"
   ]
  },
  {
   "cell_type": "code",
   "execution_count": 2,
   "metadata": {},
   "outputs": [],
   "source": [
    "a=diagonal(-4); #Elementos correspondientes a cada diagonal"
   ]
  },
  {
   "cell_type": "code",
   "execution_count": 3,
   "metadata": {},
   "outputs": [
    {
     "name": "stderr",
     "output_type": "stream",
     "text": [
      "WARNING: Method definition diagonal(Any) in module Main at In[1]:3 overwritten at In[3]:3.\n"
     ]
    },
    {
     "data": {
      "text/plain": [
       "diagonal (generic function with 1 method)"
      ]
     },
     "execution_count": 3,
     "metadata": {},
     "output_type": "execute_result"
    }
   ],
   "source": [
    "#Con esta rutina se crean los elementos de la siguiente diagonal con valor 1 en la matriz A\n",
    "function diagonal(k)\n",
    "    d=Int64[]\n",
    "    for i in 1:10\n",
    "    x=k\n",
    "    push!(d,x)\n",
    "    end\n",
    "    return d\n",
    "end"
   ]
  },
  {
   "cell_type": "code",
   "execution_count": 4,
   "metadata": {},
   "outputs": [],
   "source": [
    "d=diagonal(1); #Elementos correspondientes a cada diagonal"
   ]
  },
  {
   "cell_type": "code",
   "execution_count": 5,
   "metadata": {},
   "outputs": [
    {
     "name": "stderr",
     "output_type": "stream",
     "text": [
      "WARNING: Method definition diagonal(Any) in module Main at In[3]:3 overwritten at In[5]:3.\n"
     ]
    },
    {
     "data": {
      "text/plain": [
       "diagonal (generic function with 1 method)"
      ]
     },
     "execution_count": 5,
     "metadata": {},
     "output_type": "execute_result"
    }
   ],
   "source": [
    "#Con esta rutina se crean los elementos de la siguiente diagonal de valor 1 en la matriz A\n",
    "function diagonal(k)\n",
    "    b1=[1]\n",
    "    for i in 1:3\n",
    "    x=k\n",
    "    y=k\n",
    "        z=k\n",
    "        r=k\n",
    "        w=0\n",
    "    push!(b1,x,y,z,r,w)\n",
    "    end\n",
    "    return b1\n",
    "end"
   ]
  },
  {
   "cell_type": "code",
   "execution_count": 6,
   "metadata": {},
   "outputs": [],
   "source": [
    "b1=diagonal(1); #Elementos correspondientes a cada diagonal"
   ]
  },
  {
   "cell_type": "code",
   "execution_count": 7,
   "metadata": {},
   "outputs": [
    {
     "data": {
      "text/plain": [
       "1"
      ]
     },
     "execution_count": 7,
     "metadata": {},
     "output_type": "execute_result"
    }
   ],
   "source": [
    "b = b1\n",
    "splice!(b, 1) #Con el comando splice! se elimina un elemento del arreglo en la posiciòn deseada"
   ]
  },
  {
   "cell_type": "code",
   "execution_count": 8,
   "metadata": {},
   "outputs": [
    {
     "data": {
      "text/plain": [
       "0"
      ]
     },
     "execution_count": 8,
     "metadata": {},
     "output_type": "execute_result"
    }
   ],
   "source": [
    "splice!(b, 15)"
   ]
  },
  {
   "cell_type": "code",
   "execution_count": 9,
   "metadata": {},
   "outputs": [],
   "source": [
    "b;"
   ]
  },
  {
   "cell_type": "code",
   "execution_count": 10,
   "metadata": {},
   "outputs": [
    {
     "name": "stderr",
     "output_type": "stream",
     "text": [
      "WARNING: Method definition diagonal(Any) in module Main at In[5]:3 overwritten at In[10]:3.\n"
     ]
    },
    {
     "data": {
      "text/plain": [
       "diagonal (generic function with 1 method)"
      ]
     },
     "execution_count": 10,
     "metadata": {},
     "output_type": "execute_result"
    }
   ],
   "source": [
    "#Con esta rutina se crean los elementos de la siguiente diagonal de valor 1 en la matriz A\n",
    "function diagonal(k)\n",
    "    c1=[1]\n",
    "    for i in 1:3\n",
    "    x=k\n",
    "    y=k\n",
    "        z=k\n",
    "        r=k\n",
    "        w=0\n",
    "    push!(c1,x,y,z,r,w)\n",
    "    end\n",
    "    return c1\n",
    "end"
   ]
  },
  {
   "cell_type": "code",
   "execution_count": 11,
   "metadata": {},
   "outputs": [],
   "source": [
    "c1=diagonal(1); #Elementos correspondientes a cada diagonal"
   ]
  },
  {
   "cell_type": "code",
   "execution_count": 12,
   "metadata": {},
   "outputs": [
    {
     "data": {
      "text/plain": [
       "1"
      ]
     },
     "execution_count": 12,
     "metadata": {},
     "output_type": "execute_result"
    }
   ],
   "source": [
    "c = c1\n",
    "splice!(c, 1)"
   ]
  },
  {
   "cell_type": "code",
   "execution_count": 13,
   "metadata": {},
   "outputs": [
    {
     "data": {
      "text/plain": [
       "0"
      ]
     },
     "execution_count": 13,
     "metadata": {},
     "output_type": "execute_result"
    }
   ],
   "source": [
    "splice!(c, 15)"
   ]
  },
  {
   "cell_type": "code",
   "execution_count": 14,
   "metadata": {},
   "outputs": [],
   "source": [
    "c;"
   ]
  },
  {
   "cell_type": "code",
   "execution_count": 15,
   "metadata": {},
   "outputs": [
    {
     "data": {
      "text/plain": [
       "Matriz_A (generic function with 1 method)"
      ]
     },
     "execution_count": 15,
     "metadata": {},
     "output_type": "execute_result"
    }
   ],
   "source": [
    "#Esta rutina crea la matriz A sumando las matrices cuyas diagonales fueron definidas en las rutinas anteriores\n",
    "\n",
    "function Matriz_A(a,b,c,d)\n",
    "T = diagm(a) + diagm(b, 1) + diagm(c, -1)+ diagm(d, 5)+diagm(d, -5)\n",
    "end"
   ]
  },
  {
   "cell_type": "code",
   "execution_count": 16,
   "metadata": {},
   "outputs": [
    {
     "data": {
      "text/plain": [
       "15×15 Array{Int64,2}:\n",
       " -4   1   0   0   0   1   0   0   0   0   0   0   0   0   0\n",
       "  1  -4   1   0   0   0   1   0   0   0   0   0   0   0   0\n",
       "  0   1  -4   1   0   0   0   1   0   0   0   0   0   0   0\n",
       "  0   0   1  -4   1   0   0   0   1   0   0   0   0   0   0\n",
       "  0   0   0   1  -4   0   0   0   0   1   0   0   0   0   0\n",
       "  1   0   0   0   0  -4   1   0   0   0   1   0   0   0   0\n",
       "  0   1   0   0   0   1  -4   1   0   0   0   1   0   0   0\n",
       "  0   0   1   0   0   0   1  -4   1   0   0   0   1   0   0\n",
       "  0   0   0   1   0   0   0   1  -4   1   0   0   0   1   0\n",
       "  0   0   0   0   1   0   0   0   1  -4   0   0   0   0   1\n",
       "  0   0   0   0   0   1   0   0   0   0  -4   1   0   0   0\n",
       "  0   0   0   0   0   0   1   0   0   0   1  -4   1   0   0\n",
       "  0   0   0   0   0   0   0   1   0   0   0   1  -4   1   0\n",
       "  0   0   0   0   0   0   0   0   1   0   0   0   1  -4   1\n",
       "  0   0   0   0   0   0   0   0   0   1   0   0   0   1  -4"
      ]
     },
     "execution_count": 16,
     "metadata": {},
     "output_type": "execute_result"
    }
   ],
   "source": [
    "A=Matriz_A(a,b,c,d)"
   ]
  },
  {
   "cell_type": "code",
   "execution_count": 17,
   "metadata": {},
   "outputs": [
    {
     "data": {
      "text/plain": [
       "vector_b (generic function with 1 method)"
      ]
     },
     "execution_count": 17,
     "metadata": {},
     "output_type": "execute_result"
    }
   ],
   "source": [
    "#Esta rutina construye el vector b a partir de los valores de la frontera de la malla, de esta manera los valores a1,a2,a3,a4,a5 correponden a la fila inferior y c1,c2,c3,c4,c5 a la fila superior, mientras que el lado derecho de la malla tiene los valores b1,b2,b3 y el lado izquierdo d1,d2,d3.\n",
    "\n",
    "function vector_b(a1,a2,a3,a4,a5,b1,b2,b3,c1,c2,c3,c4,c5,d1,d2,d3)\n",
    "    M=Float64[]\n",
    "    B1=c1+b1\n",
    "    B2=a2\n",
    "    B3=a3\n",
    "    B4=a4\n",
    "    B5=c2+d1\n",
    "    B6=b2\n",
    "    B7=0\n",
    "    B8=0\n",
    "    B9=0\n",
    "    B10=c3\n",
    "    B11=b3+c1\n",
    "    B12=a2\n",
    "    B13=a3\n",
    "    B14=a4\n",
    "    B15=c4+d3\n",
    "    push!(M,B1,B2,B3,B4,B5,B6,B7,B8,B9,B10,B11,B12,B13,B14,B15)\n",
    "end"
   ]
  },
  {
   "cell_type": "code",
   "execution_count": 18,
   "metadata": {},
   "outputs": [
    {
     "data": {
      "text/plain": [
       "15-element Array{Float64,1}:\n",
       "   0.0   \n",
       "   0.0   \n",
       "   0.0   \n",
       "   0.0   \n",
       "  70.7107\n",
       "   0.0   \n",
       "   0.0   \n",
       "   0.0   \n",
       "   0.0   \n",
       " 100.0   \n",
       "   0.0   \n",
       "   0.0   \n",
       "   0.0   \n",
       "   0.0   \n",
       "  70.7107"
      ]
     },
     "execution_count": 18,
     "metadata": {},
     "output_type": "execute_result"
    }
   ],
   "source": [
    "b=vector_b(0,0,0,0,0,0,0,0,0,70.7107,100,70.7107,0,0,0,0)"
   ]
  },
  {
   "cell_type": "code",
   "execution_count": 19,
   "metadata": {},
   "outputs": [
    {
     "data": {
      "text/plain": [
       "15-element Array{Float64,1}:\n",
       "  1.30459\n",
       "  3.37339\n",
       "  7.41827\n",
       " 15.8087 \n",
       " 33.4596 \n",
       "  1.84497\n",
       "  4.77069\n",
       " 10.491  \n",
       " 22.3568 \n",
       " 47.319  \n",
       "  1.30459\n",
       "  3.37339\n",
       "  7.41827\n",
       " 15.8087 \n",
       " 33.4596 "
      ]
     },
     "execution_count": 19,
     "metadata": {},
     "output_type": "execute_result"
    }
   ],
   "source": [
    "f=-inv(A)*b #f corresponde a la solucion del sistema y con la funciòn inv se obtiene A^-1"
   ]
  },
  {
   "cell_type": "code",
   "execution_count": 20,
   "metadata": {},
   "outputs": [
    {
     "data": {
      "text/plain": [
       "5×3 Array{Float64,2}:\n",
       "  1.30459   1.84497   1.30459\n",
       "  3.37339   4.77069   3.37339\n",
       "  7.41827  10.491     7.41827\n",
       " 15.8087   22.3568   15.8087 \n",
       " 33.4596   47.319    33.4596 "
      ]
     },
     "execution_count": 20,
     "metadata": {},
     "output_type": "execute_result"
    }
   ],
   "source": [
    "reshape(f,(5,3)) #Con reshape se acomodan los valores de f en una arreglo matricial"
   ]
  },
  {
   "cell_type": "code",
   "execution_count": 21,
   "metadata": {},
   "outputs": [
    {
     "data": {
      "image/png": "[encoded data removed]",
      "text/plain": [
       "PyPlot.Figure(PyObject <matplotlib.figure.Figure object at 0x7f06cce9a290>)"
      ]
     },
     "metadata": {},
     "output_type": "display_data"
    },
    {
     "data": {
      "text/plain": [
       "PyObject <matplotlib.collections.QuadMesh object at 0x7f06cae41210>"
      ]
     },
     "execution_count": 21,
     "metadata": {},
     "output_type": "execute_result"
    }
   ],
   "source": [
    "using PyPlot\n",
    "pcolormesh(reshape(f,(5,3)))"
   ]
  },
  {
   "cell_type": "markdown",
   "metadata": {},
   "source": [
    "# Ejercicio 2\n",
    "\n",
    "Resolver ecuación de Poisson unidimensional con $\\rho (x)=\\cos(x)$, en el dominio $[0,2 \\pi]$, utilizando una malla con 12 puntos. Aquí nuevamente hay 10 incognitas, sin embargo note que para el método es mas conveniente definir $\\vec f$ incluyendo las condiciones de frontera.\n",
    "\n",
    "Solucion\n",
    "\n",
    "Consideramos la ecuacion de Poisson en 1-D\n",
    "\n",
    "$$\\frac{d^{2}u}{dx^{2}}=f(x)$$\n",
    "\n",
    "con las condciones de forntera de Dirichlet se tiene\n",
    "\n",
    "$$u(0)=u(2pi)=1$$\n",
    "\n",
    "La aproximacion a la solucion estara formada por el siguiente sistema de ecuaciones\n",
    "\n",
    "$$-u_{i-1}+2u_{i}-u_{i+1}=h^{2}f_{i}$$\n",
    "\n",
    "$$Ax=b$$\n",
    "\n",
    "donde $b=(f_{i})_{i=1,...,n}\\;y\\; x=(u_{i})_{i=1,...,n}$\n"
   ]
  },
  {
   "cell_type": "code",
   "execution_count": 22,
   "metadata": {},
   "outputs": [
    {
     "name": "stderr",
     "output_type": "stream",
     "text": [
      "WARNING: Method definition diagonal(Any) in module Main at In[10]:3 overwritten at In[22]:2.\n"
     ]
    },
    {
     "data": {
      "text/plain": [
       "diagonal (generic function with 1 method)"
      ]
     },
     "execution_count": 22,
     "metadata": {},
     "output_type": "execute_result"
    }
   ],
   "source": [
    "function diagonal(k)\n",
    "    a=Int64[]\n",
    "    for i in 1:10\n",
    "    x=k\n",
    "    push!(a,x)\n",
    "    end\n",
    "    return a\n",
    "end"
   ]
  },
  {
   "cell_type": "code",
   "execution_count": 23,
   "metadata": {},
   "outputs": [],
   "source": [
    "a=diagonal(2);"
   ]
  },
  {
   "cell_type": "code",
   "execution_count": 24,
   "metadata": {},
   "outputs": [
    {
     "name": "stderr",
     "output_type": "stream",
     "text": [
      "WARNING: Method definition diagonal(Any) in module Main at In[22]:2 overwritten at In[24]:2.\n"
     ]
    },
    {
     "data": {
      "text/plain": [
       "diagonal (generic function with 1 method)"
      ]
     },
     "execution_count": 24,
     "metadata": {},
     "output_type": "execute_result"
    }
   ],
   "source": [
    "function diagonal(k)\n",
    "    a=Int64[]\n",
    "    for i in 1:9\n",
    "    x=k\n",
    "    push!(a,x)\n",
    "    end\n",
    "    return a\n",
    "end"
   ]
  },
  {
   "cell_type": "code",
   "execution_count": 25,
   "metadata": {},
   "outputs": [],
   "source": [
    "b=diagonal(-1);"
   ]
  },
  {
   "cell_type": "code",
   "execution_count": 26,
   "metadata": {},
   "outputs": [
    {
     "name": "stderr",
     "output_type": "stream",
     "text": [
      "WARNING: Method definition diagonal(Any) in module Main at In[24]:2 overwritten at In[26]:2.\n"
     ]
    },
    {
     "data": {
      "text/plain": [
       "diagonal (generic function with 1 method)"
      ]
     },
     "execution_count": 26,
     "metadata": {},
     "output_type": "execute_result"
    }
   ],
   "source": [
    "function diagonal(k)\n",
    "    a=Int64[]\n",
    "    for i in 1:9\n",
    "    x=k\n",
    "    push!(a,x)\n",
    "    end\n",
    "    return a\n",
    "end"
   ]
  },
  {
   "cell_type": "code",
   "execution_count": 27,
   "metadata": {},
   "outputs": [],
   "source": [
    "c=diagonal(-1);"
   ]
  },
  {
   "cell_type": "code",
   "execution_count": 28,
   "metadata": {},
   "outputs": [
    {
     "data": {
      "text/plain": [
       "Matriz_A (generic function with 2 methods)"
      ]
     },
     "execution_count": 28,
     "metadata": {},
     "output_type": "execute_result"
    }
   ],
   "source": [
    "function Matriz_A(a,b,c)\n",
    "T = diagm(a) + diagm(b, 1) + diagm(c, -1)\n",
    "end"
   ]
  },
  {
   "cell_type": "code",
   "execution_count": 29,
   "metadata": {},
   "outputs": [
    {
     "data": {
      "text/plain": [
       "10×10 Array{Float64,2}:\n",
       "  7.40741  -3.7037    0.0       0.0      …   0.0       0.0       0.0    \n",
       " -3.7037    7.40741  -3.7037    0.0          0.0       0.0       0.0    \n",
       "  0.0      -3.7037    7.40741  -3.7037       0.0       0.0       0.0    \n",
       "  0.0       0.0      -3.7037    7.40741      0.0       0.0       0.0    \n",
       "  0.0       0.0       0.0      -3.7037       0.0       0.0       0.0    \n",
       "  0.0       0.0       0.0       0.0      …   0.0       0.0       0.0    \n",
       "  0.0       0.0       0.0       0.0         -3.7037    0.0       0.0    \n",
       "  0.0       0.0       0.0       0.0          7.40741  -3.7037    0.0    \n",
       "  0.0       0.0       0.0       0.0         -3.7037    7.40741  -3.7037 \n",
       "  0.0       0.0       0.0       0.0          0.0      -3.7037    7.40741"
      ]
     },
     "execution_count": 29,
     "metadata": {},
     "output_type": "execute_result"
    }
   ],
   "source": [
    "A=(1/0.27)*Matriz_A(a,b,c) #La matriz A es multiplicada por 1/h^2"
   ]
  },
  {
   "cell_type": "code",
   "execution_count": 30,
   "metadata": {},
   "outputs": [
    {
     "data": {
      "text/plain": [
       "valores_g (generic function with 1 method)"
      ]
     },
     "execution_count": 30,
     "metadata": {},
     "output_type": "execute_result"
    }
   ],
   "source": [
    "function valores_g(xf,xi,p)\n",
    "    g=Float64[]\n",
    "    \n",
    "    h=(xf-xi)/p\n",
    "    \n",
    "    for i in 1:10\n",
    "       x=i*h\n",
    "       push!(g,x)\n",
    "    end\n",
    "        return g\n",
    "end"
   ]
  },
  {
   "cell_type": "code",
   "execution_count": 31,
   "metadata": {},
   "outputs": [
    {
     "data": {
      "text/plain": [
       "10-element Array{Float64,1}:\n",
       " 0.523599\n",
       " 1.0472  \n",
       " 1.5708  \n",
       " 2.0944  \n",
       " 2.61799 \n",
       " 3.14159 \n",
       " 3.66519 \n",
       " 4.18879 \n",
       " 4.71239 \n",
       " 5.23599 "
      ]
     },
     "execution_count": 31,
     "metadata": {},
     "output_type": "execute_result"
    }
   ],
   "source": [
    "#En esta rutina se crean los valores de los 10 puntos de la malla sin incluir los valores de la frontera que ya son conocidos 0 y 2pi\n",
    "g=valores_g(2pi,0,12) "
   ]
  },
  {
   "cell_type": "code",
   "execution_count": 32,
   "metadata": {},
   "outputs": [
    {
     "data": {
      "text/plain": [
       "10-element Array{Float64,1}:\n",
       "  0.866025   \n",
       "  0.5        \n",
       "  6.12323e-17\n",
       " -0.5        \n",
       " -0.866025   \n",
       " -1.0        \n",
       " -0.866025   \n",
       " -0.5        \n",
       " -1.83697e-16\n",
       "  0.5        "
      ]
     },
     "execution_count": 32,
     "metadata": {},
     "output_type": "execute_result"
    }
   ],
   "source": [
    "#En esta parte se evaluan los valores de la malla para obtner b\n",
    "b=cos(map(x->x[1],g))"
   ]
  },
  {
   "cell_type": "code",
   "execution_count": 33,
   "metadata": {},
   "outputs": [
    {
     "data": {
      "text/plain": [
       "10-element Array{Float64,1}:\n",
       " -0.122727\n",
       " -0.479281\n",
       " -0.970836\n",
       " -1.46239 \n",
       " -1.81894 \n",
       " -1.94167 \n",
       " -1.7944  \n",
       " -1.4133  \n",
       " -0.897199\n",
       " -0.3811  "
      ]
     },
     "execution_count": 33,
     "metadata": {},
     "output_type": "execute_result"
    }
   ],
   "source": [
    "u=inv(A)*b #cada elemento de u es la solucion del sistema"
   ]
  },
  {
   "cell_type": "markdown",
   "metadata": {},
   "source": [
    "# Ejercicio 3\n",
    "(Subir mínimo un avance el Martes 14 de Noviembre, dentro de la Tarea 20)\n",
    "\n",
    "Resolver ecuación de calor en una dimensión, en el dominio $[0,1]$, con $f(0)=10$, $f(1)=0$, en una malla con 12 puntos. Aqui obviamente habrá 10 incognitas: $f_1, \\dots, f_{10}$. La condición inicial que deberán usar es $\\vec f^{[0]}=(5,4,3,2,1,3,5,7,7,8)^{\\text{T}}$."
   ]
  },
  {
   "cell_type": "code",
   "execution_count": 34,
   "metadata": {},
   "outputs": [],
   "source": [
    "x=0:0.1:1;\n",
    "u0=10*x/3;"
   ]
  },
  {
   "cell_type": "code",
   "execution_count": 35,
   "metadata": {},
   "outputs": [],
   "source": [
    "F=zeros(12-1,1);"
   ]
  },
  {
   "cell_type": "code",
   "execution_count": null,
   "metadata": {},
   "outputs": [],
   "source": [
    "K=(2*diagm(ones(1,12-1))-diagm(ones(1,12-2),1)-diagm(ones(1,12-2),-1))/(hx^2);"
   ]
  },
  {
   "cell_type": "code",
   "execution_count": 39,
   "metadata": {},
   "outputs": [
    {
     "data": {
      "text/plain": [
       "metodo_euler (generic function with 1 method)"
      ]
     },
     "execution_count": 39,
     "metadata": {},
     "output_type": "execute_result"
    }
   ],
   "source": [
    "function metodo_euler(F,list,u0,K)\n",
    " ht=(hx^2)/2;\n",
    " f=Float64[]\n",
    " u=u0';\n",
    " for i in 1:(length(t)-1)\n",
    " t = x+i*ht \n",
    "  u=u+ht*(-K*u+F);\n",
    "  push!(f,u)\n",
    "    end\n",
    "        return listf\n",
    "end"
   ]
  },
  {
   "cell_type": "code",
   "execution_count": 38,
   "metadata": {},
   "outputs": [
    {
     "data": {
      "text/plain": [
       "RK4 (generic function with 1 method)"
      ]
     },
     "execution_count": 38,
     "metadata": {},
     "output_type": "execute_result"
    }
   ],
   "source": [
    "function RK4(F,u0,list,K)\n",
    "\n",
    "ht=list[2]-list[1]\n",
    "f=Float64[]\n",
    " t=0:0.1:2;\n",
    " u=u0'\n",
    "for i in 1:length(t)-1\n",
    "     t=i*h\n",
    "     k1=-K*uu+F;\n",
    "     k2=-K*(u+k1*ht/2)+F;\n",
    "     k3=-K*(u+k2*ht/2)+F;\n",
    "     k4=-K*(u+k3*ht)+F;\n",
    "      u=u+(ht/6)*(k1+2*k2+2*k3+k4);\n",
    "     push!(f,u)\n",
    " end\n",
    "    return listf\n",
    "end"
   ]
  }
 ],
 "metadata": {
  "kernelspec": {
   "display_name": "Julia 0.5.2",
   "language": "julia",
   "name": "julia-0.5"
  },
  "language_info": {
   "file_extension": ".jl",
   "mimetype": "application/julia",
   "name": "julia",
   "version": "0.5.2"
  }
 },
 "nbformat": 4,
 "nbformat_minor": 2
}
