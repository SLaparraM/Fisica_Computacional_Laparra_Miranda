{
 "cells": [
  {
   "cell_type": "markdown",
   "metadata": {},
   "source": [
    "# Ejercicio 1\n",
    "\n",
    "Crear la libreria herramientas dentro de su carpeta de tareas, en su repositorio. Dentro deberán poner los métodos de Newton que construyeron, los métodos de integración, Euler independiente de dimensión (implícito y explícito)y Runge-Kutta independiente de dimensión. Recuerden que las rutinas deben funcionar solo con sus argumentos, no debe haber variables globales, todo lo que necesite la función para trabajar debe ser un argumento o una variable definida internamente."
   ]
  },
  {
   "cell_type": "markdown",
   "metadata": {},
   "source": [
    "# Mètodo de Newton"
   ]
  },
  {
   "cell_type": "code",
   "execution_count": 1,
   "metadata": {},
   "outputs": [
    {
     "data": {
      "text/plain": [
       "herramientas"
      ]
     },
     "execution_count": 1,
     "metadata": {},
     "output_type": "execute_result"
    }
   ],
   "source": [
    "__precompile__() # Este comando es para que julia precompile el paquete\n",
    "\n",
    "module herramientas\n",
    "\n",
    "export metodo_newton\n",
    "\n",
    "\"\"\"documentación del método de Newton para calcular las raices para el pozo finito cuadrado con A=10.0\"\"\"\n",
    "\n",
    "#Calcula las raices para el pozo finito cuadrado con A=10.0\n",
    "\n",
    "function metodo_newton(s)\n",
    "    x=s;\n",
    "    f(x)=x*tan(x)-sqrt(complex(10.0-x^2))+im -im;\n",
    "    for i in 1:100\n",
    "        df=complex(x*sec(x)^2+x/sqrt(complex(10.0-x^2))+tan(x)) #Esto se hizo para evitar errores de dominio\n",
    "        x=x-f(x)/df;\n",
    "    end\n",
    "    return x,f(x)\n",
    "end\n",
    "end\n"
   ]
  },
  {
   "cell_type": "code",
   "execution_count": 2,
   "metadata": {},
   "outputs": [
    {
     "data": {
      "text/plain": [
       "(3.1616420951060653 - 4.761032580504596e-19im,-3.802513859341161e-15 + 0.0im)"
      ]
     },
     "execution_count": 2,
     "metadata": {},
     "output_type": "execute_result"
    }
   ],
   "source": [
    "herramientas.metodo_newton(0.1)"
   ]
  },
  {
   "cell_type": "code",
   "execution_count": 3,
   "metadata": {},
   "outputs": [
    {
     "data": {
      "text/markdown": [
       "documentación del método de Newton para calcular las raices para el pozo finito cuadrado con A=10.0\n"
      ],
      "text/plain": [
       "documentación del método de Newton para calcular las raices para el pozo finito cuadrado con A=10.0\n"
      ]
     },
     "execution_count": 3,
     "metadata": {},
     "output_type": "execute_result"
    }
   ],
   "source": [
    "?herramientas.metodo_newton"
   ]
  },
  {
   "cell_type": "code",
   "execution_count": 4,
   "metadata": {},
   "outputs": [
    {
     "name": "stderr",
     "output_type": "stream",
     "text": [
      "WARNING: could not import herramientas.jl into Main\n"
     ]
    }
   ],
   "source": [
    "import herramientas.jl"
   ]
  },
  {
   "cell_type": "code",
   "execution_count": 5,
   "metadata": {},
   "outputs": [
    {
     "data": {
      "text/plain": [
       "(3.1616420951060653 - 4.761032580504596e-19im,-3.802513859341161e-15 + 0.0im)"
      ]
     },
     "execution_count": 5,
     "metadata": {},
     "output_type": "execute_result"
    }
   ],
   "source": [
    "herramientas.metodo_newton(0.1)"
   ]
  },
  {
   "cell_type": "code",
   "execution_count": 1,
   "metadata": {},
   "outputs": [
    {
     "data": {
      "text/plain": [
       "herramientas"
      ]
     },
     "execution_count": 1,
     "metadata": {},
     "output_type": "execute_result"
    }
   ],
   "source": [
    "__precompile__() # Este comando es para que julia precompile el paquete\n",
    "\n",
    "module herramientas\n",
    "\n",
    "export biseccion\n",
    "\n",
    "\"\"\"documentación del Mètodo de Bisecciòn\"\"\"\n",
    "\n",
    "#Este programa también grafica la convergencia de las raices para 4 condiciones inciales, pero utilizando el método de Bisección.\n",
    "\n",
    "function biseccion(a,b)\n",
    "    p = (a+b)/2\n",
    "    f(x) = x^3-x^2-x-1\n",
    "    list=zeros(50)\n",
    "    for i in 1:50\n",
    "        if  f(a)*f(p) > 0 \n",
    "            a = p\n",
    "        end;\n",
    "        \n",
    "        if f(b)*f(p) > 0\n",
    "            b = p\n",
    "        end;\n",
    "        p = (a+b)/2\n",
    "        list[i]=p\n",
    "    end;\n",
    "    return (list-list[50])./list[50]  #Este calculo se hizo para obtener el error relativo a la raiz\n",
    "end\n",
    "\n",
    "end"
   ]
  },
  {
   "cell_type": "code",
   "execution_count": 2,
   "metadata": {},
   "outputs": [
    {
     "data": {
      "text/plain": [
       "50-element Array{Float64,1}:\n",
       " -0.320389   \n",
       "  0.0194169  \n",
       " -0.150486   \n",
       " -0.0655345  \n",
       " -0.0230588  \n",
       " -0.00182095 \n",
       "  0.00879797 \n",
       "  0.00348851 \n",
       "  0.000833778\n",
       " -0.000493588\n",
       "  0.000170095\n",
       " -0.000161746\n",
       "  4.17465e-6 \n",
       "  ⋮          \n",
       "  1.30502e-12\n",
       "  6.88122e-14\n",
       " -5.49291e-13\n",
       " -2.40239e-13\n",
       " -8.57135e-14\n",
       " -8.45062e-15\n",
       "  3.01808e-14\n",
       "  1.08651e-14\n",
       "  1.20723e-15\n",
       " -3.6217e-15 \n",
       " -1.20723e-15\n",
       "  0.0        "
      ]
     },
     "execution_count": 2,
     "metadata": {},
     "output_type": "execute_result"
    }
   ],
   "source": [
    "herramientas.biseccion(0,5)"
   ]
  },
  {
   "cell_type": "code",
   "execution_count": 3,
   "metadata": {},
   "outputs": [
    {
     "data": {
      "text/markdown": [
       "documentación del Mètodo de Bisecciòn\n"
      ],
      "text/plain": [
       "documentación del Mètodo de Bisecciòn\n"
      ]
     },
     "execution_count": 3,
     "metadata": {},
     "output_type": "execute_result"
    }
   ],
   "source": [
    "?herramientas.biseccion"
   ]
  },
  {
   "cell_type": "code",
   "execution_count": 4,
   "metadata": {},
   "outputs": [
    {
     "name": "stderr",
     "output_type": "stream",
     "text": [
      "WARNING: could not import herramientas.jl into Main\n"
     ]
    }
   ],
   "source": [
    "import herramientas.jl"
   ]
  },
  {
   "cell_type": "code",
   "execution_count": 5,
   "metadata": {},
   "outputs": [
    {
     "data": {
      "text/plain": [
       "50-element Array{Float64,1}:\n",
       " -0.320389   \n",
       "  0.0194169  \n",
       " -0.150486   \n",
       " -0.0655345  \n",
       " -0.0230588  \n",
       " -0.00182095 \n",
       "  0.00879797 \n",
       "  0.00348851 \n",
       "  0.000833778\n",
       " -0.000493588\n",
       "  0.000170095\n",
       " -0.000161746\n",
       "  4.17465e-6 \n",
       "  ⋮          \n",
       "  1.30502e-12\n",
       "  6.88122e-14\n",
       " -5.49291e-13\n",
       " -2.40239e-13\n",
       " -8.57135e-14\n",
       " -8.45062e-15\n",
       "  3.01808e-14\n",
       "  1.08651e-14\n",
       "  1.20723e-15\n",
       " -3.6217e-15 \n",
       " -1.20723e-15\n",
       "  0.0        "
      ]
     },
     "execution_count": 5,
     "metadata": {},
     "output_type": "execute_result"
    }
   ],
   "source": [
    "herramientas.biseccion(0,5)"
   ]
  },
  {
   "cell_type": "markdown",
   "metadata": {},
   "source": [
    "# Mètodos de Integraciòn"
   ]
  },
  {
   "cell_type": "code",
   "execution_count": 1,
   "metadata": {},
   "outputs": [
    {
     "data": {
      "text/plain": [
       "herramientas"
      ]
     },
     "execution_count": 1,
     "metadata": {},
     "output_type": "execute_result"
    }
   ],
   "source": [
    "__precompile__() # Este comando es para que julia precompile el paquete\n",
    "\n",
    "module herramientas\n",
    "\n",
    "export Metodo_del_rectangulo\n",
    "\n",
    "\"\"\"documentación del Método del Rectàngulo\"\"\"\n",
    "\n",
    "#Este programa calcula el valor aproximado de la integral con el Método del rectángulo, el cual consiste en sumar las áreas de todos los rectángulos formados bajo la curva. La base de cada rectángulo corresponde a una diferencia finita de un subintervalo y la altura a la función evaluada en el punto que se encuentra a la mitad del subintervalo [a,b].\n",
    "\n",
    "function Metodo_del_rectangulo(f,c)\n",
    "    i=1 \n",
    "    I=0 #Se inicia la suma en I=0\n",
    "    for i in 1:length(c)-1 #Se utilizó un for para ir iterando los valores de los subintervalos tomados del intervalo c\n",
    "        a=c[i] # a corresponde al límite inferior del subintervalo [a,b] y c[] localiza al primer elemento del subintervalo.\n",
    "        b=c[i+1] # b es el límte superior del subintervalo y c[i+1] incrementa en 1 al valor anterior y con ello localiza al                       segundo elemento del subintervalo, y así sucesivamente para todos los demás.\n",
    "        I=I+(b-a)*f((a+b)/2) #La aproximación a la integral por este método, ésta dada por la fórmula I. \n",
    "    end\n",
    "        return I #Devuelve el valor de la integral como la suma de todos los rectángulos de diferencia finita.\n",
    "    \n",
    "end\n",
    "end"
   ]
  },
  {
   "cell_type": "code",
   "execution_count": 2,
   "metadata": {},
   "outputs": [
    {
     "data": {
      "text/plain": [
       "2838.805055401662"
      ]
     },
     "execution_count": 2,
     "metadata": {},
     "output_type": "execute_result"
    }
   ],
   "source": [
    "herramientas.Metodo_del_rectangulo(x->x^3+x^2+1,linspace(1,10,20))"
   ]
  },
  {
   "cell_type": "code",
   "execution_count": 3,
   "metadata": {},
   "outputs": [
    {
     "data": {
      "text/markdown": [
       "documentación del Método del Rectàngulo\n"
      ],
      "text/plain": [
       "documentación del Método del Rectàngulo\n"
      ]
     },
     "execution_count": 3,
     "metadata": {},
     "output_type": "execute_result"
    }
   ],
   "source": [
    "?herramientas.Metodo_del_rectangulo"
   ]
  },
  {
   "cell_type": "code",
   "execution_count": 4,
   "metadata": {},
   "outputs": [
    {
     "name": "stderr",
     "output_type": "stream",
     "text": [
      "WARNING: could not import herramientas.jl into Main\n"
     ]
    }
   ],
   "source": [
    "import herramientas.jl"
   ]
  },
  {
   "cell_type": "code",
   "execution_count": 5,
   "metadata": {},
   "outputs": [
    {
     "data": {
      "text/plain": [
       "2838.805055401662"
      ]
     },
     "execution_count": 5,
     "metadata": {},
     "output_type": "execute_result"
    }
   ],
   "source": [
    "herramientas.Metodo_del_rectangulo(x->x^3+x^2+1,linspace(1,10,20))"
   ]
  },
  {
   "cell_type": "code",
   "execution_count": 1,
   "metadata": {},
   "outputs": [
    {
     "data": {
      "text/plain": [
       "herramientas"
      ]
     },
     "execution_count": 1,
     "metadata": {},
     "output_type": "execute_result"
    }
   ],
   "source": [
    "__precompile__() # Este comando es para que julia precompile el paquete\n",
    "\n",
    "module herramientas\n",
    "\n",
    "export Metodo_del_trapecio\n",
    "\n",
    "\"\"\"documentación del Método del Trapecio\"\"\"\n",
    "\n",
    "function Metodo_del_trapecio(f,c)\n",
    "    i=1\n",
    "    I=0 #Se inicia la suma en I=0\n",
    "    for i in 1:length(c)-1 #Se usó un for para iterar los valores del subintervalo, ya que estos valores serán usados en la suma                            de las áreas de todos los trapecios.\n",
    "        a=c[i] # a es el límite superior del subintervalo \n",
    "        b=c[i+1] # b es el límite inferior del subintervalo\n",
    "        I=I+(b-a)*(f(a)+f(b))/2 # I corresponde a la suma de todas las áreas de los trapecios.\n",
    "    end\n",
    "    return I #Devuelve el valor de la integral\n",
    "end\n",
    "end"
   ]
  },
  {
   "cell_type": "code",
   "execution_count": 2,
   "metadata": {},
   "outputs": [
    {
     "data": {
      "text/plain": [
       "2847.639889196676"
      ]
     },
     "execution_count": 2,
     "metadata": {},
     "output_type": "execute_result"
    }
   ],
   "source": [
    "herramientas.Metodo_del_trapecio(x->x^3+x^2+1,linspace(1,10,20))"
   ]
  },
  {
   "cell_type": "code",
   "execution_count": 3,
   "metadata": {},
   "outputs": [
    {
     "data": {
      "text/markdown": [
       "documentación del Método del Trapecio\n"
      ],
      "text/plain": [
       "documentación del Método del Trapecio\n"
      ]
     },
     "execution_count": 3,
     "metadata": {},
     "output_type": "execute_result"
    }
   ],
   "source": [
    "?herramientas.Metodo_del_trapecio"
   ]
  },
  {
   "cell_type": "code",
   "execution_count": 4,
   "metadata": {},
   "outputs": [
    {
     "name": "stderr",
     "output_type": "stream",
     "text": [
      "WARNING: could not import herramientas.jl into Main\n"
     ]
    }
   ],
   "source": [
    "import herramientas.jl"
   ]
  },
  {
   "cell_type": "code",
   "execution_count": 5,
   "metadata": {},
   "outputs": [
    {
     "data": {
      "text/plain": [
       "2847.639889196676"
      ]
     },
     "execution_count": 5,
     "metadata": {},
     "output_type": "execute_result"
    }
   ],
   "source": [
    "herramientas.Metodo_del_trapecio(x->x^3+x^2+1,linspace(1,10,20))"
   ]
  },
  {
   "cell_type": "code",
   "execution_count": 1,
   "metadata": {},
   "outputs": [
    {
     "data": {
      "text/plain": [
       "herramientas"
      ]
     },
     "execution_count": 1,
     "metadata": {},
     "output_type": "execute_result"
    }
   ],
   "source": [
    "__precompile__() # Este comando es para que julia precompile el paquete\n",
    "\n",
    "module herramientas\n",
    "\n",
    "export Metodo_Simpson\n",
    "\n",
    "\"\"\"documentación del Método de Simpson\"\"\"\n",
    "\n",
    "#Este progrma utliza la regla de Simpson para obtener una aproximación a la integral y sigue el mismo procedimiento que los anteriores, pero aproximando los subintervalos de f mediante polinomios de segundo grado.\n",
    "\n",
    "function Metodo_Simpson(f,c)\n",
    "    i=1\n",
    "    I=0\n",
    "    for i in 1:length(c)-1 #Con el uso de for se iteraron los valores del subintervalo para que la fórmula I los tome y los                                 evalue.\n",
    "        a=c[i] # a corresponde al límite inferior del subintervalo\n",
    "        b=c[i+1] # b es el límite superior del subintervalo\n",
    "        I=I+((b-a)/6)*[f(a)+4*f((a+b)/2)+f(b)] #Consideramos el polinomio interpolador de orden dos que aproxima a la función                                                   integrando f(x) en los puntos a y b. Aplicando el método de interpolación de                                                     Lagrange, que para tres puntos interpola con un polinomio de grado 2 se obtiene                                                 la fórmula I.\n",
    "    end\n",
    "    return I #Devueleve el valor de I\n",
    "end\n",
    "end"
   ]
  },
  {
   "cell_type": "code",
   "execution_count": 2,
   "metadata": {},
   "outputs": [
    {
     "data": {
      "text/plain": [
       "1-element Array{Float64,1}:\n",
       " 2841.75"
      ]
     },
     "execution_count": 2,
     "metadata": {},
     "output_type": "execute_result"
    }
   ],
   "source": [
    "herramientas.Metodo_Simpson(x->x^3+x^2+1,linspace(1,10,20))"
   ]
  },
  {
   "cell_type": "code",
   "execution_count": 3,
   "metadata": {},
   "outputs": [
    {
     "data": {
      "text/markdown": [
       "documentación del Método de Simpson\n"
      ],
      "text/plain": [
       "documentación del Método de Simpson\n"
      ]
     },
     "execution_count": 3,
     "metadata": {},
     "output_type": "execute_result"
    }
   ],
   "source": [
    "?herramientas.Metodo_Simpson"
   ]
  },
  {
   "cell_type": "code",
   "execution_count": 4,
   "metadata": {},
   "outputs": [
    {
     "name": "stderr",
     "output_type": "stream",
     "text": [
      "WARNING: could not import herramientas.jl into Main\n"
     ]
    }
   ],
   "source": [
    "import herramientas.jl"
   ]
  },
  {
   "cell_type": "code",
   "execution_count": 5,
   "metadata": {},
   "outputs": [
    {
     "data": {
      "text/plain": [
       "1-element Array{Float64,1}:\n",
       " 2841.75"
      ]
     },
     "execution_count": 5,
     "metadata": {},
     "output_type": "execute_result"
    }
   ],
   "source": [
    "herramientas.Metodo_Simpson(x->x^3+x^2+1,linspace(1,10,20))"
   ]
  },
  {
   "cell_type": "markdown",
   "metadata": {},
   "source": [
    "# Mètodo de Euler independiente de dimensión (implícito y explícito)"
   ]
  },
  {
   "cell_type": "code",
   "execution_count": 1,
   "metadata": {},
   "outputs": [
    {
     "data": {
      "text/plain": [
       "herramientas"
      ]
     },
     "execution_count": 1,
     "metadata": {},
     "output_type": "execute_result"
    }
   ],
   "source": [
    "__precompile__() # Este comando es para que julia precompile el paquete\n",
    "\n",
    "module herramientas\n",
    "\n",
    "export euler_explicito\n",
    "\n",
    "\"\"\"documentación Euler explicito\"\"\"\n",
    "\n",
    "function euler_explicito(f,list,x0)\n",
    "     x = x0\n",
    "     h = list[2]-list[1]\n",
    "     listx=[]\n",
    "     push!(listx,x)\n",
    "     for i in 2:length(list)\n",
    "        t = i*h\n",
    "        x = x + f(x,t)*h\n",
    "        push!(listx,x) \n",
    "     end\n",
    "     return listx\n",
    "end\n",
    "end"
   ]
  },
  {
   "cell_type": "code",
   "execution_count": 2,
   "metadata": {},
   "outputs": [
    {
     "data": {
      "text/plain": [
       "f (generic function with 1 method)"
      ]
     },
     "execution_count": 2,
     "metadata": {},
     "output_type": "execute_result"
    }
   ],
   "source": [
    "f(x,t)=[1.0*x[2], -1.0*x[1]-1.0*x[2]]"
   ]
  },
  {
   "cell_type": "code",
   "execution_count": 3,
   "metadata": {},
   "outputs": [
    {
     "data": {
      "text/plain": [
       "10001-element Array{Any,1}:\n",
       " [0,1]                     \n",
       " [0.01,0.99]               \n",
       " [0.0199,0.98]             \n",
       " [0.0297,0.970001]         \n",
       " [0.0394,0.960004]         \n",
       " [0.049,0.95001]           \n",
       " [0.0585001,0.94002]       \n",
       " [0.0679003,0.930035]      \n",
       " [0.0772007,0.920055]      \n",
       " [0.0864012,0.910083]      \n",
       " [0.0955021,0.900118]      \n",
       " [0.104503,0.890162]       \n",
       " [0.113405,0.880215]       \n",
       " ⋮                         \n",
       " [-2.59004e-22,2.6579e-22] \n",
       " [-2.56346e-22,2.65722e-22]\n",
       " [-2.53688e-22,2.65629e-22]\n",
       " [-2.51032e-22,2.65509e-22]\n",
       " [-2.48377e-22,2.65365e-22]\n",
       " [-2.45723e-22,2.65195e-22]\n",
       " [-2.43072e-22,2.65e-22]   \n",
       " [-2.40422e-22,2.64781e-22]\n",
       " [-2.37774e-22,2.64537e-22]\n",
       " [-2.35128e-22,2.64269e-22]\n",
       " [-2.32486e-22,2.63978e-22]\n",
       " [-2.29846e-22,2.63663e-22]"
      ]
     },
     "execution_count": 3,
     "metadata": {},
     "output_type": "execute_result"
    }
   ],
   "source": [
    "herramientas.euler_explicito(f,0:0.01:100,[0,1])"
   ]
  },
  {
   "cell_type": "code",
   "execution_count": 4,
   "metadata": {},
   "outputs": [
    {
     "data": {
      "text/markdown": [
       "documentación Euler explicito\n"
      ],
      "text/plain": [
       "documentación Euler explicito\n"
      ]
     },
     "execution_count": 4,
     "metadata": {},
     "output_type": "execute_result"
    }
   ],
   "source": [
    "?herramientas.euler_explicito"
   ]
  },
  {
   "cell_type": "code",
   "execution_count": 5,
   "metadata": {},
   "outputs": [
    {
     "name": "stderr",
     "output_type": "stream",
     "text": [
      "WARNING: could not import herramientas.jl into Main\n"
     ]
    }
   ],
   "source": [
    "import herramientas.jl"
   ]
  },
  {
   "cell_type": "code",
   "execution_count": 6,
   "metadata": {},
   "outputs": [
    {
     "data": {
      "text/plain": [
       "10001-element Array{Any,1}:\n",
       " [0,1]                     \n",
       " [0.01,0.99]               \n",
       " [0.0199,0.98]             \n",
       " [0.0297,0.970001]         \n",
       " [0.0394,0.960004]         \n",
       " [0.049,0.95001]           \n",
       " [0.0585001,0.94002]       \n",
       " [0.0679003,0.930035]      \n",
       " [0.0772007,0.920055]      \n",
       " [0.0864012,0.910083]      \n",
       " [0.0955021,0.900118]      \n",
       " [0.104503,0.890162]       \n",
       " [0.113405,0.880215]       \n",
       " ⋮                         \n",
       " [-2.59004e-22,2.6579e-22] \n",
       " [-2.56346e-22,2.65722e-22]\n",
       " [-2.53688e-22,2.65629e-22]\n",
       " [-2.51032e-22,2.65509e-22]\n",
       " [-2.48377e-22,2.65365e-22]\n",
       " [-2.45723e-22,2.65195e-22]\n",
       " [-2.43072e-22,2.65e-22]   \n",
       " [-2.40422e-22,2.64781e-22]\n",
       " [-2.37774e-22,2.64537e-22]\n",
       " [-2.35128e-22,2.64269e-22]\n",
       " [-2.32486e-22,2.63978e-22]\n",
       " [-2.29846e-22,2.63663e-22]"
      ]
     },
     "execution_count": 6,
     "metadata": {},
     "output_type": "execute_result"
    }
   ],
   "source": [
    "herramientas.euler_explicito(f,0:0.01:100,[0,1])"
   ]
  },
  {
   "cell_type": "code",
   "execution_count": 1,
   "metadata": {},
   "outputs": [
    {
     "data": {
      "text/plain": [
       "herramientas"
      ]
     },
     "execution_count": 1,
     "metadata": {},
     "output_type": "execute_result"
    }
   ],
   "source": [
    "__precompile__() # Este comando es para que julia precompile el paquete\n",
    "\n",
    "module herramientas\n",
    "\n",
    "export euler_implicito\n",
    "\n",
    "\"\"\"documentación Euler implicito\"\"\"\n",
    "\n",
    "function euler_implicito(f,df,list,x0)\n",
    "     x = x0\n",
    "     h = list[2]-list[1]\n",
    "     listx=[]\n",
    "     push!(listx,x)\n",
    "     for i in 2:length(list)\n",
    "        t = i*h\n",
    "       x = x -(x-f(x,t)*h)/df(x)\n",
    "        push!(listx,x) \n",
    "     end\n",
    "     return listx\n",
    "end\n",
    "end"
   ]
  },
  {
   "cell_type": "code",
   "execution_count": 2,
   "metadata": {},
   "outputs": [
    {
     "data": {
      "text/plain": [
       "f (generic function with 1 method)"
      ]
     },
     "execution_count": 2,
     "metadata": {},
     "output_type": "execute_result"
    }
   ],
   "source": [
    "f(x,t)=3*(x[2])^2+x+1"
   ]
  },
  {
   "cell_type": "code",
   "execution_count": 3,
   "metadata": {},
   "outputs": [
    {
     "data": {
      "text/plain": [
       "df (generic function with 1 method)"
      ]
     },
     "execution_count": 3,
     "metadata": {},
     "output_type": "execute_result"
    }
   ],
   "source": [
    "df(x)=6x[2]+1"
   ]
  },
  {
   "cell_type": "code",
   "execution_count": 4,
   "metadata": {},
   "outputs": [
    {
     "data": {
      "text/plain": [
       "10001-element Array{Any,1}:\n",
       " [0,1]                \n",
       " [0.00571429,0.864286]\n",
       " [0.0100392,0.7312]   \n",
       " [0.0130279,0.601661] \n",
       " [0.0147551,0.476978] \n",
       " [0.0153293,0.35906]  \n",
       " [0.0149146,0.250765] \n",
       " [0.0137651,0.15639]  \n",
       " [0.0122722,0.0820521]\n",
       " [0.0109672,0.0344551]\n",
       " [0.0102861,0.0145046]\n",
       " [0.0101233,0.0104999]\n",
       " [0.0101057,0.0101315]\n",
       " ⋮                    \n",
       " [0.0101041,0.0101041]\n",
       " [0.0101041,0.0101041]\n",
       " [0.0101041,0.0101041]\n",
       " [0.0101041,0.0101041]\n",
       " [0.0101041,0.0101041]\n",
       " [0.0101041,0.0101041]\n",
       " [0.0101041,0.0101041]\n",
       " [0.0101041,0.0101041]\n",
       " [0.0101041,0.0101041]\n",
       " [0.0101041,0.0101041]\n",
       " [0.0101041,0.0101041]\n",
       " [0.0101041,0.0101041]"
      ]
     },
     "execution_count": 4,
     "metadata": {},
     "output_type": "execute_result"
    }
   ],
   "source": [
    "herramientas.euler_implicito(f,df,0:0.01:100,[0,1])"
   ]
  },
  {
   "cell_type": "code",
   "execution_count": 5,
   "metadata": {},
   "outputs": [
    {
     "data": {
      "text/markdown": [
       "documentación Euler implicito\n"
      ],
      "text/plain": [
       "documentación Euler implicito\n"
      ]
     },
     "execution_count": 5,
     "metadata": {},
     "output_type": "execute_result"
    }
   ],
   "source": [
    "?herramientas.euler_implicito"
   ]
  },
  {
   "cell_type": "code",
   "execution_count": 6,
   "metadata": {},
   "outputs": [
    {
     "name": "stderr",
     "output_type": "stream",
     "text": [
      "WARNING: could not import herramientas.jl into Main\n"
     ]
    }
   ],
   "source": [
    "import herramientas.jl"
   ]
  },
  {
   "cell_type": "code",
   "execution_count": 7,
   "metadata": {},
   "outputs": [
    {
     "data": {
      "text/plain": [
       "10001-element Array{Any,1}:\n",
       " [0,1]                \n",
       " [0.00571429,0.864286]\n",
       " [0.0100392,0.7312]   \n",
       " [0.0130279,0.601661] \n",
       " [0.0147551,0.476978] \n",
       " [0.0153293,0.35906]  \n",
       " [0.0149146,0.250765] \n",
       " [0.0137651,0.15639]  \n",
       " [0.0122722,0.0820521]\n",
       " [0.0109672,0.0344551]\n",
       " [0.0102861,0.0145046]\n",
       " [0.0101233,0.0104999]\n",
       " [0.0101057,0.0101315]\n",
       " ⋮                    \n",
       " [0.0101041,0.0101041]\n",
       " [0.0101041,0.0101041]\n",
       " [0.0101041,0.0101041]\n",
       " [0.0101041,0.0101041]\n",
       " [0.0101041,0.0101041]\n",
       " [0.0101041,0.0101041]\n",
       " [0.0101041,0.0101041]\n",
       " [0.0101041,0.0101041]\n",
       " [0.0101041,0.0101041]\n",
       " [0.0101041,0.0101041]\n",
       " [0.0101041,0.0101041]\n",
       " [0.0101041,0.0101041]"
      ]
     },
     "execution_count": 7,
     "metadata": {},
     "output_type": "execute_result"
    }
   ],
   "source": [
    "herramientas.euler_implicito(f,df,0:0.01:100,[0,1])"
   ]
  },
  {
   "cell_type": "markdown",
   "metadata": {},
   "source": [
    "# Runge-Kutta independiente de dimensión"
   ]
  },
  {
   "cell_type": "code",
   "execution_count": 1,
   "metadata": {},
   "outputs": [
    {
     "data": {
      "text/plain": [
       "herramientas"
      ]
     },
     "execution_count": 1,
     "metadata": {},
     "output_type": "execute_result"
    }
   ],
   "source": [
    "__precompile__() # Este comando es para que julia precompile el paquete\n",
    "\n",
    "module herramientas\n",
    "\n",
    "export euler_implicito\n",
    "\n",
    "\"\"\"documentación Runge-Kutta de orden 4\"\"\"\n",
    "\n",
    "function RK4(f,list,x0)\n",
    "     x = x0\n",
    "     h = list[2]-list[1]\n",
    "     listx=[]\n",
    "     push!(listx,x)\n",
    "     for i in 2:length(list)\n",
    "        t=i*h\n",
    "        k1=f(x,t);\n",
    "        k2=f(x+(h/2)*k1,t+(h/2));\n",
    "        k3=f(x+(h/2)*k2,t+(h/2));\n",
    "        k4=f(x+h*k3,t+h);\n",
    "        x = x + (h/6)*(k1+2*k2+2*k3+k4);\n",
    "        push!(listx,x) \n",
    "    end\n",
    "     return listx\n",
    "end\n",
    "end"
   ]
  },
  {
   "cell_type": "code",
   "execution_count": 2,
   "metadata": {},
   "outputs": [
    {
     "data": {
      "text/plain": [
       "f (generic function with 1 method)"
      ]
     },
     "execution_count": 2,
     "metadata": {},
     "output_type": "execute_result"
    }
   ],
   "source": [
    "f(x,t)=[x[2], -sin(x[1])]"
   ]
  },
  {
   "cell_type": "code",
   "execution_count": 3,
   "metadata": {},
   "outputs": [
    {
     "data": {
      "text/plain": [
       "10001-element Array{Any,1}:\n",
       " [0,1]               \n",
       " [0.00999983,0.99995]\n",
       " [0.0199987,0.9998]  \n",
       " [0.0299955,0.99955] \n",
       " [0.0399893,0.9992]  \n",
       " [0.0499792,0.998751]\n",
       " [0.059964,0.998201] \n",
       " [0.0699429,0.997552]\n",
       " [0.0799147,0.996803]\n",
       " [0.0898786,0.995955]\n",
       " [0.0998335,0.995008]\n",
       " [0.109778,0.993962] \n",
       " [0.119712,0.992817] \n",
       " ⋮                   \n",
       " [-0.967498,0.367047]\n",
       " [-0.963786,0.375271]\n",
       " [-0.959992,0.383474]\n",
       " [-0.956117,0.391655]\n",
       " [-0.952159,0.399813]\n",
       " [-0.948121,0.407948]\n",
       " [-0.944001,0.416059]\n",
       " [-0.9398,0.424146]  \n",
       " [-0.935518,0.432208]\n",
       " [-0.931155,0.440244]\n",
       " [-0.926713,0.448254]\n",
       " [-0.92219,0.456237] "
      ]
     },
     "execution_count": 3,
     "metadata": {},
     "output_type": "execute_result"
    }
   ],
   "source": [
    "herramientas.RK4(f,0:0.01:100,[0,1])"
   ]
  },
  {
   "cell_type": "code",
   "execution_count": 4,
   "metadata": {},
   "outputs": [
    {
     "data": {
      "text/markdown": [
       "documentación Runge-Kutta de orden 4\n"
      ],
      "text/plain": [
       "documentación Runge-Kutta de orden 4\n"
      ]
     },
     "execution_count": 4,
     "metadata": {},
     "output_type": "execute_result"
    }
   ],
   "source": [
    "?herramientas.RK4"
   ]
  },
  {
   "cell_type": "code",
   "execution_count": 5,
   "metadata": {},
   "outputs": [
    {
     "name": "stderr",
     "output_type": "stream",
     "text": [
      "WARNING: could not import herramientas.jl into Main\n"
     ]
    }
   ],
   "source": [
    "import herramientas.jl"
   ]
  },
  {
   "cell_type": "code",
   "execution_count": 6,
   "metadata": {},
   "outputs": [
    {
     "data": {
      "text/plain": [
       "10001-element Array{Any,1}:\n",
       " [0,1]               \n",
       " [0.00999983,0.99995]\n",
       " [0.0199987,0.9998]  \n",
       " [0.0299955,0.99955] \n",
       " [0.0399893,0.9992]  \n",
       " [0.0499792,0.998751]\n",
       " [0.059964,0.998201] \n",
       " [0.0699429,0.997552]\n",
       " [0.0799147,0.996803]\n",
       " [0.0898786,0.995955]\n",
       " [0.0998335,0.995008]\n",
       " [0.109778,0.993962] \n",
       " [0.119712,0.992817] \n",
       " ⋮                   \n",
       " [-0.967498,0.367047]\n",
       " [-0.963786,0.375271]\n",
       " [-0.959992,0.383474]\n",
       " [-0.956117,0.391655]\n",
       " [-0.952159,0.399813]\n",
       " [-0.948121,0.407948]\n",
       " [-0.944001,0.416059]\n",
       " [-0.9398,0.424146]  \n",
       " [-0.935518,0.432208]\n",
       " [-0.931155,0.440244]\n",
       " [-0.926713,0.448254]\n",
       " [-0.92219,0.456237] "
      ]
     },
     "execution_count": 6,
     "metadata": {},
     "output_type": "execute_result"
    }
   ],
   "source": [
    "herramientas.RK4(f,0:0.01:100,[0,1])"
   ]
  },
  {
   "cell_type": "code",
   "execution_count": null,
   "metadata": {},
   "outputs": [],
   "source": []
  }
 ],
 "metadata": {
  "kernelspec": {
   "display_name": "Julia 0.5.2",
   "language": "julia",
   "name": "julia-0.5"
  },
  "language_info": {
   "file_extension": ".jl",
   "mimetype": "application/julia",
   "name": "julia",
   "version": "0.5.2"
  }
 },
 "nbformat": 4,
 "nbformat_minor": 2
}
