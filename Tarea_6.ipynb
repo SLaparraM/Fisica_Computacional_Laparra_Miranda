{
 "cells": [
  {
   "cell_type": "markdown",
   "metadata": {},
   "source": [
    "# Ejercicio 1.\n",
    "Implementar el método de integración del rectángulo. Deberán construir una rutina que reciba una función y el tamaño de la diferencia finita, y devuelva el valor aproximado de la integral. Para hacer esto deberán dividir el intervalo de integración en segmentos pequeños y aplicar la formula de arriba."
   ]
  },
  {
   "cell_type": "markdown",
   "metadata": {},
   "source": [
    "Obs: Para los Ejercicios 1, 2 y 3 se utilizó la función f(x)=x^3+x^2+1 al igual que el intervalo, con el porpósito de observar que los tres métdodos deben aproximarse al mismo valor de la integral."
   ]
  },
  {
   "cell_type": "code",
   "execution_count": 1,
   "metadata": {
    "collapsed": false,
    "scrolled": true
   },
   "outputs": [
    {
     "name": "stderr",
     "output_type": "stream",
     "text": [
      "\u001b[1m\u001b[36mINFO: \u001b[39m\u001b[22m\u001b[36mPackage SymPy is already installed\n",
      "\u001b[39m\u001b[1m\u001b[36mINFO: \u001b[39m\u001b[22m\u001b[36mMETADATA is out-of-date — you may not have the latest version of SymPy\n",
      "\u001b[39m\u001b[1m\u001b[36mINFO: \u001b[39m\u001b[22m\u001b[36mUse `Pkg.update()` to get the latest versions of your packages\n",
      "\u001b[39m"
     ]
    }
   ],
   "source": [
    "Pkg.add(\"SymPy\") #Se instaló la paquetería SymPy"
   ]
  },
  {
   "cell_type": "code",
   "execution_count": 2,
   "metadata": {
    "collapsed": true
   },
   "outputs": [],
   "source": [
    "using SymPy"
   ]
  },
  {
   "cell_type": "code",
   "execution_count": 3,
   "metadata": {
    "collapsed": false
   },
   "outputs": [
    {
     "data": {
      "text/latex": [
       "$$x$$"
      ],
      "text/plain": [
       "x"
      ]
     },
     "execution_count": 3,
     "metadata": {},
     "output_type": "execute_result"
    }
   ],
   "source": [
    "x=symbols(\"x\")"
   ]
  },
  {
   "cell_type": "code",
   "execution_count": 4,
   "metadata": {
    "collapsed": false
   },
   "outputs": [
    {
     "data": {
      "text/plain": [
       "f (generic function with 1 method)"
      ]
     },
     "execution_count": 4,
     "metadata": {},
     "output_type": "execute_result"
    }
   ],
   "source": [
    "f(x)=x^3+x^2+1"
   ]
  },
  {
   "cell_type": "code",
   "execution_count": 5,
   "metadata": {
    "collapsed": false
   },
   "outputs": [
    {
     "data": {
      "text/latex": [
       "$$x^{3} + x^{2} + 1$$"
      ],
      "text/plain": [
       " 3    2    \n",
       "x  + x  + 1"
      ]
     },
     "execution_count": 5,
     "metadata": {},
     "output_type": "execute_result"
    }
   ],
   "source": [
    "f(x)"
   ]
  },
  {
   "cell_type": "code",
   "execution_count": 6,
   "metadata": {
    "collapsed": false
   },
   "outputs": [
    {
     "data": {
      "text/plain": [
       "1.0:0.47368421052631576:10.0"
      ]
     },
     "execution_count": 6,
     "metadata": {},
     "output_type": "execute_result"
    }
   ],
   "source": [
    "c=linspace(1,10,20) #Se utlizó un linspace para crear un intervalo, con esto se pudo dividir al intervalo en subintervalos de longitud muy pequena."
   ]
  },
  {
   "cell_type": "code",
   "execution_count": 7,
   "metadata": {
    "collapsed": false
   },
   "outputs": [
    {
     "data": {
      "text/plain": [
       "20-element Array{Float64,1}:\n",
       "  1.0    \n",
       "  1.47368\n",
       "  1.94737\n",
       "  2.42105\n",
       "  2.89474\n",
       "  3.36842\n",
       "  3.84211\n",
       "  4.31579\n",
       "  4.78947\n",
       "  5.26316\n",
       "  5.73684\n",
       "  6.21053\n",
       "  6.68421\n",
       "  7.15789\n",
       "  7.63158\n",
       "  8.10526\n",
       "  8.57895\n",
       "  9.05263\n",
       "  9.52632\n",
       " 10.0    "
      ]
     },
     "execution_count": 7,
     "metadata": {},
     "output_type": "execute_result"
    }
   ],
   "source": [
    "collect(c) #Aquí se muestran los elementos del intervalo y la partición del intervalo."
   ]
  },
  {
   "cell_type": "code",
   "execution_count": 8,
   "metadata": {
    "collapsed": false
   },
   "outputs": [
    {
     "data": {
      "text/plain": [
       "19"
      ]
     },
     "execution_count": 8,
     "metadata": {},
     "output_type": "execute_result"
    }
   ],
   "source": [
    "length(c)-1 #Se utilizó length para conocer la longitud del intervalo o para ver cuantos elementos tiene."
   ]
  },
  {
   "cell_type": "code",
   "execution_count": 9,
   "metadata": {
    "collapsed": false
   },
   "outputs": [
    {
     "data": {
      "text/plain": [
       "Metodo_del_rectangulo (generic function with 1 method)"
      ]
     },
     "execution_count": 9,
     "metadata": {},
     "output_type": "execute_result"
    }
   ],
   "source": [
    "#Este programa calcula el valor aproximado de la integral con el Método del rectángulo, el cual consiste en sumar las áreas de todos los rectángulos formados bajo la curva. La base de cada rectángulo corresponde a una diferencia finita de un subintervalo y la altura a la función evaluada en el punto que se encuentra a la mitad del subintervalo [a,b].\n",
    "\n",
    "function Metodo_del_rectangulo(f,c)\n",
    "    i=1 \n",
    "    I=0 #Se inicia la suma en I=0\n",
    "    for i in 1:length(c)-1 #Se utilizó un for para ir iterando los valores de los subintervalos tomados del intervalo c\n",
    "        a=c[i] # a corresponde al límite inferior del subintervalo [a,b] y c[] localiza al primer elemento del subintervalo.\n",
    "        b=c[i+1] # b es el límte superior del subintervalo y c[i+1] incrementa en 1 al valor anterior y con ello localiza al                       segundo elemento del subintervalo, y así sucesivamente para todos los demás.\n",
    "        I=I+(b-a)*f((a+b)/2) #La aproximación a la integral por este método, ésta dada por la fórmula I. \n",
    "    end\n",
    "        return I #Devuelve el valor de la integral como la suma de todos los rectángulos de diferencia finita.\n",
    "    \n",
    "end"
   ]
  },
  {
   "cell_type": "code",
   "execution_count": 10,
   "metadata": {
    "collapsed": false
   },
   "outputs": [
    {
     "data": {
      "text/plain": [
       "2838.805055401662"
      ]
     },
     "execution_count": 10,
     "metadata": {},
     "output_type": "execute_result"
    }
   ],
   "source": [
    "Metodo_del_rectangulo(f,c)"
   ]
  },
  {
   "cell_type": "markdown",
   "metadata": {},
   "source": [
    "# Ejercicio 2.\n",
    "Implementar método del trapecio de la misma forma que el ejercicio anterior."
   ]
  },
  {
   "cell_type": "code",
   "execution_count": 11,
   "metadata": {
    "collapsed": false
   },
   "outputs": [
    {
     "data": {
      "text/plain": [
       "Metodo_del_trapecio (generic function with 1 method)"
      ]
     },
     "execution_count": 11,
     "metadata": {},
     "output_type": "execute_result"
    }
   ],
   "source": [
    "#Este programa se basa en el mismo método que el anterior, pero ahora se utilizan trapecios. Por lo que se utiliza en este método la fórmula del área para un trapecio.\n",
    "\n",
    "function Metodo_del_trapecio(f,c)\n",
    "    i=1\n",
    "    I=0 #Se inicia la suma en I=0\n",
    "    for i in 1:length(c)-1 #Se usó un for para iterar los valores del subintervalo, ya que estos valores serán usados en la suma                            de las áreas de todos los trapecios.\n",
    "        a=c[i] # a es el límite superior del subintervalo \n",
    "        b=c[i+1] # b es el límite inferior del subintervalo\n",
    "        I=I+(b-a)*(f(a)+f(b))/2 # I corresponde a la suma de todas las áreas de los trapecios.\n",
    "    end\n",
    "    return I #Devuelve el valor de la integral\n",
    "end\n",
    "       "
   ]
  },
  {
   "cell_type": "code",
   "execution_count": 12,
   "metadata": {
    "collapsed": false
   },
   "outputs": [
    {
     "data": {
      "text/plain": [
       "2847.639889196676"
      ]
     },
     "execution_count": 12,
     "metadata": {},
     "output_type": "execute_result"
    }
   ],
   "source": [
    "Metodo_del_trapecio(f,c)"
   ]
  },
  {
   "cell_type": "markdown",
   "metadata": {},
   "source": [
    "# Ejercicio 3.\n",
    "Implementar método de Simpson de la misma forma que el ejercicio anterior."
   ]
  },
  {
   "cell_type": "code",
   "execution_count": 13,
   "metadata": {
    "collapsed": false
   },
   "outputs": [
    {
     "data": {
      "text/plain": [
       "Metodo_Simpson (generic function with 1 method)"
      ]
     },
     "execution_count": 13,
     "metadata": {},
     "output_type": "execute_result"
    }
   ],
   "source": [
    "#Este progrma utliza la regla de Simpson para obtener una aproximación a la integral y sigue el mismo procedimiento que los anteriores, pero aproximando los subintervalos de f mediante polinomios de segundo grado.\n",
    "\n",
    "function Metodo_Simpson(f,c)\n",
    "    i=1\n",
    "    I=0\n",
    "    for i in 1:length(c)-1 #Con el uso de for se iteraron los valores del subintervalo para que la fórmula I los tome y los                                 evalue.\n",
    "        a=c[i] # a corresponde al límite inferior del subintervalo\n",
    "        b=c[i+1] # b es el límite superior del subintervalo\n",
    "        I=I+((b-a)/6)*[f(a)+4*f((a+b)/2)+f(b)] #Consideramos el polinomio interpolador de orden dos que aproxima a la función                                                   integrando f(x) en los puntos a y b. Aplicando el método de interpolación de                                                     Lagrange, que para tres puntos interpola con un polinomio de grado 2 se obtiene                                                 la fórmula I.\n",
    "    end\n",
    "    return I #Devueleve el valor de I\n",
    "end"
   ]
  },
  {
   "cell_type": "code",
   "execution_count": 14,
   "metadata": {
    "collapsed": false
   },
   "outputs": [
    {
     "data": {
      "text/plain": [
       "1-element Array{Float64,1}:\n",
       " 2841.75"
      ]
     },
     "execution_count": 14,
     "metadata": {},
     "output_type": "execute_result"
    }
   ],
   "source": [
    "Metodo_Simpson(f,c)"
   ]
  },
  {
   "cell_type": "code",
   "execution_count": null,
   "metadata": {
    "collapsed": true
   },
   "outputs": [],
   "source": []
  }
 ],
 "metadata": {
  "kernelspec": {
   "display_name": "Julia 0.6.0",
   "language": "julia",
   "name": "julia-0.6"
  },
  "language_info": {
   "file_extension": ".jl",
   "mimetype": "application/julia",
   "name": "julia",
   "version": "0.6.0"
  }
 },
 "nbformat": 4,
 "nbformat_minor": 2
}
