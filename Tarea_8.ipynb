{
 "cells": [
  {
   "cell_type": "markdown",
   "metadata": {},
   "source": [
    "# Ejerciocio 1.\n",
    "Escribe una función derivadaNumerica que reciba: una función $f\\colon \\mathbb{R}\\mapsto\\mathbb{R}$, un punto $x_0\\in\\mathbb{R}$ y un número $h\\in\\mathbb{R}$. Esta función deberá calcular una aproximación a la derivada utilizando la definición indicada arriba ignorando la parte del límite. Es decir, algo como: derivada_numerica(f,x,h)."
   ]
  },
  {
   "cell_type": "code",
   "execution_count": 2,
   "metadata": {
    "collapsed": false
   },
   "outputs": [
    {
     "data": {
      "text/plain": [
       "f (generic function with 1 method)"
      ]
     },
     "execution_count": 2,
     "metadata": {},
     "output_type": "execute_result"
    }
   ],
   "source": [
    "f(x)=x^3 #Para este ejercicio se utilizo la función x^3"
   ]
  },
  {
   "cell_type": "code",
   "execution_count": 3,
   "metadata": {
    "collapsed": false
   },
   "outputs": [
    {
     "data": {
      "text/plain": [
       "derivada_Numerica (generic function with 1 method)"
      ]
     },
     "execution_count": 3,
     "metadata": {},
     "output_type": "execute_result"
    }
   ],
   "source": [
    "function derivada_Numerica(f,x,h)\n",
    "    df=(f(x+h)-f(x))/h #La expresión para calcular la derivada numérica hacia adelante,y en esta función df se sustituyó el                            límite por tomar valores muy pequeños de h.\n",
    "return df\n",
    "end"
   ]
  },
  {
   "cell_type": "code",
   "execution_count": 4,
   "metadata": {
    "collapsed": false
   },
   "outputs": [
    {
     "data": {
      "text/plain": [
       "27.91000000000004"
      ]
     },
     "execution_count": 4,
     "metadata": {},
     "output_type": "execute_result"
    }
   ],
   "source": [
    "derivada_Numerica(f,3,0.1) #Se calculó la derivada en un punto x=3 y se tomó h=0.1"
   ]
  },
  {
   "cell_type": "markdown",
   "metadata": {
    "collapsed": true
   },
   "source": [
    "# Ejericicio 7.\n",
    "Explotar la relación $\\delta_h=\\Delta_h-\\Delta_{-h}$, donde $\\delta_h:f(x)\\mapsto f(x+h)-f(x-h)$, para encontrar cual es la función $\\theta$ que relaciona a $\\delta_h$ con el operador derivada exacta, es decir: $$\\delta_h=\\theta\\left(h\\left. \\frac{d}{d\\xi}\\right|_{\\xi=x}\\right).$$\n",
    "Una vez que la encuentren, despejen $\\left. \\frac{d}{d\\xi}\\right|_{\\xi=x}$ y calculen la serie de Taylor de mánera similar a lo mostrado en las ecuaciones 3 y 4."
   ]
  },
  {
   "cell_type": "markdown",
   "metadata": {},
   "source": [
    "Solución.\n",
    "\n",
    "Sea $x=h\\left. \\frac{d}{d\\xi}\\right|_{\\xi=x}$\n",
    "\n",
    "El operador diferencia finita hacia adelante $\\Delta_h$, el cual se define como:\n",
    "\n",
    "$$\\Delta_h=f(x+h)-f(x)$$\n",
    "\n",
    "Se hace un desarrollo en serie de Taylor para obtener $f(x+h)$, entonces nos queda la siguiente expresión:\n",
    "\n",
    "$$f(x+h)=f{\\left (x \\right )} + h \\left. \\frac{d}{d \\xi} f{\\left (\\xi \\right )} \\right|_{\\substack{ \\xi=x }} + \\frac{h^{2}}{2} \\left. \\frac{d^{2}}{d \\xi^{2}}  f{\\left (\\xi \\right )} \\right|_{\\substack{ \\xi=x }} + \\frac{h^{3}}{6} \\left. \\frac{d^{3}}{d \\xi^{3}}  f{\\left (\\xi \\right )} \\right|_{\\substack{ \\xi=x }} + \\mathcal{O}\\left(h^{4}\\right)$$\n",
    "\n",
    "La expresión $f(x+h)$ la sustituimos en la ecuaucón $\\Delta_h$, por lo tanto\n",
    "\n",
    "$$\\Delta_h=h \\left. \\frac{d}{d \\xi} f{\\left (\\xi \\right )} \\right|_{\\substack{ \\xi=x }} + \\frac{h^{2}}{2} \\left. \\frac{d^{2}}{d \\xi^{2}}  f{\\left (\\xi \\right )} \\right|_{\\substack{ \\xi=x }} + \\frac{h^{3}}{6} \\left. \\frac{d^{3}}{d \\xi^{3}}  f{\\left (\\xi \\right )} \\right|_{\\substack{ \\xi=x }} + \\mathcal{O}\\left(h^{4}\\right)$$\n",
    "\n",
    "Del desarrollo en serie de potencias de la expresion para $\\Delta_h$ se observa que la serie lleva un comporatamiento parecido al de la función exponencial desarrollada en serie de Taylor, con la difrencia de un menos uno.\n",
    "\n",
    "$$\\Delta_h=e^{x}-1$$\n",
    "\n",
    "Por otro lado determinamos la difrencia finita hacia atrás o anterior, la cual esta dada como:\n",
    "\n",
    "$$\\Delta_{-h}=f(x-h)-f(x)$$\n",
    "\n",
    "como en el caso anterior también se realiza un desarrollo en serie de Taylor, pero ahora para la función $f(x-h)$ dando como resultado la siguiente expresión:\n",
    "\n",
    "$$f(x-h)=f{\\left (x \\right )} - h \\left. \\frac{d}{d \\xi} f{\\left (\\xi \\right )} \\right|_{\\substack{ \\xi=x }} + \\frac{h^{2}}{2} \\left. \\frac{d^{2}}{d \\xi^{2}}  f{\\left (\\xi \\right )} \\right|_{\\substack{ \\xi=x }} - \\frac{h^{3}}{6} \\left. \\frac{d^{3}}{d \\xi^{3}}  f{\\left (\\xi \\right )} \\right|_{\\substack{ \\xi=x }} + \\mathcal{O}\\left(h^{4}\\right)$$\n",
    "\n",
    "sustituyendo en la expresión $\\Delta_{-h}$ obtenemos que\n",
    "\n",
    "$$\\Delta_{-h}=-h \\left. \\frac{d}{d \\xi} f{\\left (\\xi \\right )} \\right|_{\\substack{ \\xi=x }} + \\frac{h^{2}}{2} \\left. \\frac{d^{2}}{d \\xi^{2}}  f{\\left (\\xi \\right )} \\right|_{\\substack{ \\xi=x }} - \\frac{h^{3}}{6} \\left. \\frac{d^{3}}{d \\xi^{3}}  f{\\left (\\xi \\right )} \\right|_{\\substack{ \\xi=x }} + \\mathcal{O}\\left(h^{4}\\right)$$\n",
    "\n",
    "Como en el caso anterior $\\Delta_{-h}$ también puede ser expresada con la función exponencial, pero ahora seria $e^{-x}$ por el desarrollo parecido que tienen ambas funciones, entonces\n",
    "\n",
    "$$\\Delta_{-h}=e^{-x}-1$$\n",
    "\n",
    "Ahora sustituimos las expresiones de $\\Delta_h$ y $\\Delta_{-h}$ en la relación $\\delta_h=\\Delta_h-\\Delta_{-h}$, por la tanto\n",
    "\n",
    "$$\\delta_h=h \\left. \\frac{d}{d \\xi} f{\\left (\\xi \\right )} \\right|_{\\substack{ \\xi=x }} + \\frac{h^{2}}{2} \\left. \\frac{d^{2}}{d \\xi^{2}}  f{\\left (\\xi \\right )} \\right|_{\\substack{ \\xi=x }} + \\frac{h^{3}}{6} \\left. \\frac{d^{3}}{d \\xi^{3}}  f{\\left (\\xi \\right )} \\right|_{\\substack{ \\xi=x }} + \\mathcal{O}\\left(h^{4}\\right)+h \\left. \\frac{d}{d \\xi} f{\\left (\\xi \\right )} \\right|_{\\substack{ \\xi=x }} - \\frac{h^{2}}{2} \\left. \\frac{d^{2}}{d \\xi^{2}}  f{\\left (\\xi \\right )} \\right|_{\\substack{ \\xi=x }} + \\frac{h^{3}}{6} \\left. \\frac{d^{3}}{d \\xi^{3}}  f{\\left (\\xi \\right )} \\right|_{\\substack{ \\xi=x }} - \\mathcal{O}\\left(h^{4}\\right)]$$\n",
    "\n",
    "De la ecuación anterior se cancelan los términos con potencias pares y se factoriza, entonces nos queda\n",
    "\n",
    "$$\\delta_h=2[h \\left. \\frac{d}{d \\xi} f{\\left (\\xi \\right )} \\right|_{\\substack{ \\xi=x }} + \\frac{h^{3}}{6} \\left. \\frac{d^{3}}{d \\xi^{3}}  f{\\left (\\xi \\right )} \\right|_{\\substack{ \\xi=x }}+\\frac{h^{5}}{120} \\left. \\frac{d^{5}}{d \\xi^{5}}  f{\\left (\\xi \\right )} \\right|_{\\substack{ \\xi=x }}+\\mathcal{O}\\left(h^{6}\\right)]$$\n",
    "    \n",
    "$$\\delta_h=e^{x}-1-(e^{-x}-1)$$\n",
    "\n",
    "$$\\delta_h=e^{x}-e^{-x}$$\n",
    "\n",
    "Por otro lado sabemos que $senh(x)=\\frac{e^{x}-e^{-x}}{2}$, entonces\n",
    "\n",
    "$$e^{x}-e^{-x}=2senh(x)$$\n",
    "\n",
    "Sustituyendo el valor de x, nos queda\n",
    "\n",
    "$$\\delta_h=2senh(h\\left. \\frac{d}{d\\xi}\\right|_{\\xi=x})$$\n",
    "\n",
    "Ahora despejamos $h\\left. \\frac{d}{d\\xi}\\right|_{\\xi=x}$ de la ecaucón anterior\n",
    "\n",
    "$$senh(h\\left. \\frac{d}{d\\xi}\\right|_{\\xi=x})=\\frac{\\delta_h}{2}$$\n",
    "\n",
    "$$senh^{-1}(\\frac{\\delta_h}{2})=h\\left. \\frac{d}{d\\xi}\\right|_{\\xi=x}$$\n",
    "\n",
    "Por lo tanto\n",
    "\n",
    "$$\\left. \\frac{d}{d\\xi}\\right|_{\\xi=x}=\\frac{1}{h}senh^{-1}(\\frac{\\delta_h}{2})$$\n",
    "\n",
    "Hacemos un desarrollo en serie de Taylor de la función $senh^{-1}$\n",
    "\n",
    "$$\\left. \\frac{d}{d\\xi}\\right|_{\\xi=x}=\\frac{1}{h}[\\frac{\\delta_h}{2}-\\frac{(\\delta_h)^{3}}{48}+3\\frac{(\\delta_h)^{5}}{1280}+\\mathcal{O}\\left(h^{6}\\right)]$$"
   ]
  },
  {
   "cell_type": "code",
   "execution_count": null,
   "metadata": {
    "collapsed": true
   },
   "outputs": [],
   "source": []
  }
 ],
 "metadata": {
  "kernelspec": {
   "display_name": "Julia 0.6.0",
   "language": "julia",
   "name": "julia-0.6"
  },
  "language_info": {
   "file_extension": ".jl",
   "mimetype": "application/julia",
   "name": "julia",
   "version": "0.6.0"
  }
 },
 "nbformat": 4,
 "nbformat_minor": 2
}
