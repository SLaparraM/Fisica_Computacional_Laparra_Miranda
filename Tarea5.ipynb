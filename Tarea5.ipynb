{
 "cells": [
  {
   "cell_type": "markdown",
   "metadata": {},
   "source": [
    "# Regla del trapecio"
   ]
  },
  {
   "cell_type": "markdown",
   "metadata": {},
   "source": [
    "Este método se basa en un cálculo del área bajo una curva usando trapecios. Nuevamente, el cálculo de $∫_a^bf(x)dx$ se realiza al dividir primero el intervalo [a,b] en subintervalos de acuerdo con la partición $P={a=x_0<x_1<x_2<⋯<x_n=b}$.\n",
    "Para cada una de las particiones del intervalo (no es necesario que los puntos de partición ${x_i}$ estén uniformemente espaciados), se obtiene un cálculo de la integral con la regla del trapecio. Lo denotamos por T(f;P). Un trapecio típico tiene el subintervalo $[{x_i},x_{i+1}]$ como su base y los dos lados verticales son $f(x_i)$ y $f(x_{i+1})$. El área es igual a la base por la altura promedio y tenemos la regla del trapecio básica para el subintervalo $[x_i,x_{i+1}]$:\n",
    "$$∫_{x_i}^{x_{i+1}}f(x)dx≈1/2 (x_i-x_{i+1} )[f({x_i})+f(x_{i+1})]$$\n",
    "Por tanto, el área total de todos los trapecios es\n",
    "$$∫_a^bf(x)dx≈1/2 ∑_{i=0}^{n-1}(x_i-x_{i+1} )[f({x_i} )+f(x_{i+1})]$$\n",
    "\n",
    "Estimación del error en la regla del trapecio.\n",
    "\n",
    "Si M es un número real positivo tal que |f''(x)|≤M para todo x en [a,b], entonces el error  que se comete al usar la Regla del Trapecio no es mayor que $$M(b-a)^3/12n^2$$\n",
    "\n"
   ]
  },
  {
   "cell_type": "markdown",
   "metadata": {},
   "source": [
    "# Regla de Simpson de orden 2"
   ]
  },
  {
   "cell_type": "markdown",
   "metadata": {},
   "source": [
    "Las reglas de Simpson son parte de las fórmulas de integración de Newton-Cotes, que se basan en el reemplazo de una función complicada o datos tabulados con una función aproximada que sea fácil de integrar. Utilizamos un polinomio de interpolación cuadrático.\n",
    "Sea ${p_2(x)}$ el polinomio de grado (a lo más) dos que interpola a f(x) en x=a, x=(a+b)/2, x=b. Este polinomio se puede escribir como:\n",
    "\n",
    "$$p_2 (x)=[(x-c)(x-b)/(a-c)(a-b)]f(a) + [(x-a)(x-b)/(c-a)(c-b)]f(c) + [(x-a)(x-c)/(b-a)(b-c)]f(b)$$\n",
    "\n",
    "$$=L_1 (x)f(a)+L_2 (x)f(c)+L_3 (x)f(b)$$\n",
    "\n",
    "Tenemos ahora que\n",
    "\n",
    "$$I(f)≈∫_a^bp_2 (x)dx=∫_a^b[ L_1 (x)f(a)+L_2 (x)f(c)+L_3 (x)f(b)]dx$$\n",
    "\n",
    "$$=f(a)∫_a^bL_1(x)dx + f(c)∫_a^bL_2 (x)dx + f(b)∫_a^bL_3 (x)dx$$\n",
    "\n",
    "Pero con h=(b-a)/2 y u=x-a tenemos que\n",
    "\n",
    "$$∫_a^bL_1(x)dx=∫_a^b(x-c)(x-b)/(a-c)(a-b)dx=1/(2h^2 )∫_a^{a+2h}(x-c)(x-b)dx$$\n",
    "\n",
    "$$=1/(2h^2)∫_0^2h(u-h)(u-2h)du=h/3$$\n",
    "\n",
    "En forma similar se obtiene que\n",
    "\n",
    "$$∫_a^bL_2(x)dx=4h/3    ,    ∫_a^bL_3 (x)dx=h/3$$\n",
    "\n",
    "Por lo tanto\n",
    "\n",
    "$$I(f)≈h/3[f(a)+4f((a+b)/2)+f(b)]$$          (1)\n",
    "\n",
    "Argumentando en forma similar como en el método del trapecio, tenemos que si n es un entero par entonces\n",
    "\n",
    "$$I(f)=∑_{j=1}^{n/2}∫_{x_{2_{j-1}}}^{2j}f(x)dx$$\n",
    "\n",
    "Usando la fórmula (1) podemos aproximar \n",
    "\n",
    "$$∫_{x_{2_{j-1}}}^{2j}f(x)dx≈h/3[f(x_{2_{(j-1)}})+4f(x_{2j-1})+f(x_{2j})]$$\n",
    "\n",
    "Ahora\n",
    "\n",
    "$$I(f)≈S_n(f)=h/3 ∑_{j=1}^{n/2}[f(x_{2_{(j-1)}})+4f(x_{2j-1})+f(x_{2j})]$$\n",
    "\n",
    "$$=h/3[f(x_0)+4f(x_1)+2f(x_2)+4f(x_3)+2f(x_4)+⋯+2f(x_{n-2})+4f(x_{n-1})+f(x_n)]$$\n",
    "\n",
    "Esta fórmula se conoce como la regla (compuesta) de Simpson para aproximar a I(f). \n"
   ]
  },
  {
   "cell_type": "markdown",
   "metadata": {},
   "source": [
    "# Método de integración de Riemann"
   ]
  },
  {
   "cell_type": "markdown",
   "metadata": {
    "collapsed": true
   },
   "source": [
    "Consideremos una función $f$ definida en el intervalo cerrado $[a, b]$. Una partición $P$ de dicho intervalo es un conjunto de números ${x_0,x_1,x_2,…,x_n}$ tales que\n",
    "\n",
    "$$a=x_0<x_1<x_2<x_{n-1}<x_n=b$$\n",
    "\n",
    "Si $∆x_i$ es la anchura del i-ésimo subintervalo $[x_{i-1},x_i]$, es decir, $∆x_i=x_i-x_{i-1}$, entonces se define la norma de $P$ y se denota por $‖P‖$ como la longitud del subintervalo más grande.\n",
    "\n",
    "$$‖P‖=max_{1≤i≤n}[∆x_i ]=max⁡[∆x_1,∆x_2,…,∆x_n]$$\n",
    "\n",
    "Si $c_i$ es cualquier punto del subintervalo i-ésimo, entones la suma\n",
    "\n",
    "$$∑_{i=1}^nf(c_i)∆x_i$$\n",
    "\n",
    "$$x_{i-1}≤c_i≤x_i$$\n",
    "\n",
    "Se llama suma de Riemann de la función f asociada a la partición P. Entre todos los posibles valores de $c_i$, podemos destacar los siguientes:\n",
    "\n",
    "(1) $c_i=m_i$ para todo i, donde $f(m_i)$ es el valor mínimo de $f$ en el i-ésimo subintervalo. Entonces la suma de Riemann\n",
    "\n",
    "$$s(f,P)=∑_{i=1}^nf(m_i)∆x_i$$\n",
    "\n",
    "Se denomina suma inferior de f asociada a P\n",
    "\n",
    "(2) $c_i=M_i$ para todo $i$, donde $f(M_i)$ es el valor máximo de $f$ en el i-ésimo subintervalo. Entones la suma de Riemann\n",
    "\n",
    "$$S(f,P)=∑_{i=0}^nf(M_i) ∆x_i$$\n",
    "\n",
    "Se denomina suma superior de $f$ asociada a $P$.\n",
    "\n",
    "Una función f definida en $[a,b]$ se dice integrable en $[a,b]$ si existe el límite de las sumas de Riemann de $f$ (cuando la norma de $P$ tiende a 0) y denotamos este límite mediante\n",
    "\n",
    "$$lim_{‖P‖→0}⁡f(c_i)⁡∆x_i =∫_a^bf(x)dx$$\n",
    "\n",
    "Dicho valor se denomina integral definida de $f$ entre $a$ y $b$, donde $a$ y $b$ son los límites inferior y superior de integración, respectivamente.\n",
    "\n",
    "La relación entre el área de una región y el concepto de integral definida queda reflejada en el siguiente resultado: Si $f$ es continua y no negativa en un intervalo cerrado $[a,b]$, entonces el área de la región limitada por $f$, el eje $x$ y las líneas verticales $x=a$ y $x=b$ viene dada por\n",
    "\n",
    "$$área=∫_a^bf(x)dx$$\n",
    "\n",
    "\n"
   ]
  },
  {
   "cell_type": "code",
   "execution_count": null,
   "metadata": {
    "collapsed": true
   },
   "outputs": [],
   "source": []
  }
 ],
 "metadata": {
  "kernelspec": {
   "display_name": "Julia 0.6.0",
   "language": "julia",
   "name": "julia-0.6"
  },
  "language_info": {
   "file_extension": ".jl",
   "mimetype": "application/julia",
   "name": "julia",
   "version": "0.6.0"
  }
 },
 "nbformat": 4,
 "nbformat_minor": 2
}
