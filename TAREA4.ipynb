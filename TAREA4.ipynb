{
 "cells": [
  {
   "cell_type": "markdown",
   "metadata": {},
   "source": [
    "# Ejercicio 1\n",
    "\n",
    "Ejercicio 1.1 "
   ]
  },
  {
   "cell_type": "code",
   "execution_count": null,
   "metadata": {
    "collapsed": true
   },
   "outputs": [],
   "source": [
    "#Este programa grafica como convergen una lista de raices reales del polinomio x^3 - x^2 - x - 1, siendo estas listas de raices correspondientes a 4 condiciones inciales; para obtenerlas se utilizó el método de Newton.\n",
    "\n",
    "function raiz(init)\n",
    "    list=zeros(100);\n",
    "    x=init;\n",
    "    f(x)= x^3-x^2-x-1;\n",
    "    for i in 1:100        \n",
    "        df(x)=3*x^2-2*x-1\n",
    "        x=x-f(x)/df(x);\n",
    "        list[i]=x;\n",
    "    end\n",
    "    return (list-list[100])./list[100]   #Este calculo se hizo para obtener el error relativo a la raiz\n",
    "end;"
   ]
  },
  {
   "cell_type": "code",
   "execution_count": 28,
   "metadata": {
    "collapsed": false
   },
   "outputs": [
    {
     "data": {
      "text/plain": [
       "100-element Array{Float64,1}:\n",
       " 0.108699   \n",
       " 0.0144485  \n",
       " 0.000307238\n",
       " 1.43291e-7 \n",
       " 3.12673e-14\n",
       " 0.0        \n",
       " 0.0        \n",
       " 0.0        \n",
       " 0.0        \n",
       " 0.0        \n",
       " 0.0        \n",
       " 0.0        \n",
       " 0.0        \n",
       " ⋮          \n",
       " 0.0        \n",
       " 0.0        \n",
       " 0.0        \n",
       " 0.0        \n",
       " 0.0        \n",
       " 0.0        \n",
       " 0.0        \n",
       " 0.0        \n",
       " 0.0        \n",
       " 0.0        \n",
       " 0.0        \n",
       " 0.0        "
      ]
     },
     "execution_count": 28,
     "metadata": {},
     "output_type": "execute_result"
    }
   ],
   "source": [
    "raiz(2.5)"
   ]
  },
  {
   "cell_type": "code",
   "execution_count": 29,
   "metadata": {
    "collapsed": false
   },
   "outputs": [
    {
     "data": {
      "text/plain": [
       "100-element Array{Float64,1}:\n",
       " 0.474734   \n",
       " 0.165949   \n",
       " 0.030532   \n",
       " 0.00132596 \n",
       " 2.66286e-6 \n",
       " 1.07712e-11\n",
       " 0.0        \n",
       " 0.0        \n",
       " 0.0        \n",
       " 0.0        \n",
       " 0.0        \n",
       " 0.0        \n",
       " 0.0        \n",
       " ⋮          \n",
       " 0.0        \n",
       " 0.0        \n",
       " 0.0        \n",
       " 0.0        \n",
       " 0.0        \n",
       " 0.0        \n",
       " 0.0        \n",
       " 0.0        \n",
       " 0.0        \n",
       " 0.0        \n",
       " 0.0        \n",
       " 0.0        "
      ]
     },
     "execution_count": 29,
     "metadata": {},
     "output_type": "execute_result"
    }
   ],
   "source": [
    "raiz(3.7)"
   ]
  },
  {
   "cell_type": "code",
   "execution_count": 30,
   "metadata": {
    "collapsed": false
   },
   "outputs": [
    {
     "data": {
      "text/plain": [
       "100-element Array{Float64,1}:\n",
       " -3.13364   \n",
       " -2.38638   \n",
       " -1.89045   \n",
       " -1.55138   \n",
       " -1.27947   \n",
       " -0.692532  \n",
       " -1.48351   \n",
       " -1.20661   \n",
       "  1.09815   \n",
       "  0.52784   \n",
       "  0.193917  \n",
       "  0.03987   \n",
       "  0.00221788\n",
       "  ⋮         \n",
       "  0.0       \n",
       "  0.0       \n",
       "  0.0       \n",
       "  0.0       \n",
       "  0.0       \n",
       "  0.0       \n",
       "  0.0       \n",
       "  0.0       \n",
       "  0.0       \n",
       "  0.0       \n",
       "  0.0       \n",
       "  0.0       "
      ]
     },
     "execution_count": 30,
     "metadata": {},
     "output_type": "execute_result"
    }
   ],
   "source": [
    "raiz(-6)"
   ]
  },
  {
   "cell_type": "code",
   "execution_count": 31,
   "metadata": {
    "collapsed": false
   },
   "outputs": [
    {
     "data": {
      "text/plain": [
       "100-element Array{Float64,1}:\n",
       " -4.21613 \n",
       " -3.10315 \n",
       " -2.3662  \n",
       " -1.87696 \n",
       " -1.54172 \n",
       " -1.26987 \n",
       " -0.621847\n",
       " -1.68798 \n",
       " -1.39942 \n",
       " -1.08661 \n",
       " -1.86821 \n",
       " -1.53543 \n",
       " -1.2635  \n",
       "  ⋮       \n",
       "  0.0     \n",
       "  0.0     \n",
       "  0.0     \n",
       "  0.0     \n",
       "  0.0     \n",
       "  0.0     \n",
       "  0.0     \n",
       "  0.0     \n",
       "  0.0     \n",
       "  0.0     \n",
       "  0.0     \n",
       "  0.0     "
      ]
     },
     "execution_count": 31,
     "metadata": {},
     "output_type": "execute_result"
    }
   ],
   "source": [
    "raiz(-9)"
   ]
  },
  {
   "cell_type": "code",
   "execution_count": 32,
   "metadata": {
    "collapsed": true
   },
   "outputs": [],
   "source": [
    "list1=raiz(2.5);\n",
    "list2=raiz(3.7);\n",
    "list3=raiz(-6);\n",
    "list4=raiz(-9);"
   ]
  },
  {
   "cell_type": "code",
   "execution_count": 33,
   "metadata": {
    "collapsed": false
   },
   "outputs": [
    {
     "name": "stderr",
     "output_type": "stream",
     "text": [
      "\u001b[1m\u001b[36mINFO: \u001b[39m\u001b[22m\u001b[36mPackage PyPlot is already installed\n",
      "\u001b[39m\u001b[1m\u001b[36mINFO: \u001b[39m\u001b[22m\u001b[36mMETADATA is out-of-date — you may not have the latest version of PyPlot\n",
      "\u001b[39m\u001b[1m\u001b[36mINFO: \u001b[39m\u001b[22m\u001b[36mUse `Pkg.update()` to get the latest versions of your packages\n",
      "\u001b[39m"
     ]
    }
   ],
   "source": [
    "Pkg.add(\"PyPlot\")"
   ]
  },
  {
   "cell_type": "code",
   "execution_count": 34,
   "metadata": {
    "collapsed": true
   },
   "outputs": [],
   "source": [
    "using PyPlot"
   ]
  },
  {
   "cell_type": "code",
   "execution_count": 35,
   "metadata": {
    "collapsed": false
   },
   "outputs": [
    {
     "data": {
      "image/png": "[encoded data removed]",
      "text/plain": [
       "PyPlot.Figure(PyObject <matplotlib.figure.Figure object at 0x7fe1b5040590>)"
      ]
     },
     "metadata": {},
     "output_type": "display_data"
    }
   ],
   "source": [
    "yscale(\"symlog\", linthreshy=0.05)\n",
    "plot(real(list1))\n",
    "plot(real(list2))\n",
    "plot(real(list3))\n",
    "plot(real(list4))\n",
    "show();"
   ]
  },
  {
   "cell_type": "markdown",
   "metadata": {},
   "source": [
    "Ejercicio 1.2"
   ]
  },
  {
   "cell_type": "code",
   "execution_count": 36,
   "metadata": {
    "collapsed": true
   },
   "outputs": [],
   "source": [
    "#Este programa también grafica la convergencia de las raices para 4 condiciones inciales, pero utilizando el método de Bisección.\n",
    "\n",
    "function biseccion(a,b)\n",
    "    p = (a+b)/2\n",
    "    f(x) = x^3-x^2-x-1\n",
    "    list=zeros(50)\n",
    "    for i in 1:50\n",
    "        if  f(a)*f(p) > 0 \n",
    "            a = p\n",
    "        end;\n",
    "        \n",
    "        if f(b)*f(p) > 0\n",
    "            b = p\n",
    "        end;\n",
    "        p = (a+b)/2\n",
    "        list[i]=p\n",
    "    end;\n",
    "    return (list-list[50])./list[50]  #Este calculo se hizo para obtener el error relativo a la raiz\n",
    "end;"
   ]
  },
  {
   "cell_type": "code",
   "execution_count": 37,
   "metadata": {
    "collapsed": false
   },
   "outputs": [
    {
     "data": {
      "text/plain": [
       "50-element Array{Float64,1}:\n",
       " -0.320389   \n",
       "  0.0194169  \n",
       " -0.150486   \n",
       " -0.0655345  \n",
       " -0.0230588  \n",
       " -0.00182095 \n",
       "  0.00879797 \n",
       "  0.00348851 \n",
       "  0.000833778\n",
       " -0.000493588\n",
       "  0.000170095\n",
       " -0.000161746\n",
       "  4.17465e-6 \n",
       "  ⋮          \n",
       "  1.30502e-12\n",
       "  6.88122e-14\n",
       " -5.49291e-13\n",
       " -2.40239e-13\n",
       " -8.57135e-14\n",
       " -8.45062e-15\n",
       "  3.01808e-14\n",
       "  1.08651e-14\n",
       "  1.20723e-15\n",
       " -3.6217e-15 \n",
       " -1.20723e-15\n",
       "  0.0        "
      ]
     },
     "execution_count": 37,
     "metadata": {},
     "output_type": "execute_result"
    }
   ],
   "source": [
    "biseccion(0,5)"
   ]
  },
  {
   "cell_type": "code",
   "execution_count": 38,
   "metadata": {
    "collapsed": false
   },
   "outputs": [
    {
     "data": {
      "text/plain": [
       "50-element Array{Float64,1}:\n",
       " -1.0        \n",
       " -0.456311   \n",
       " -0.184466   \n",
       " -0.0485442  \n",
       "  0.0194169  \n",
       " -0.0145637  \n",
       "  0.00242662 \n",
       " -0.00606852 \n",
       " -0.00182095 \n",
       "  0.000302832\n",
       " -0.000759061\n",
       " -0.000228114\n",
       "  3.73588e-5 \n",
       "  ⋮          \n",
       " -2.15757e-12\n",
       " -1.79636e-13\n",
       "  8.09328e-13\n",
       "  3.14846e-13\n",
       "  6.7605e-14 \n",
       " -5.60156e-14\n",
       "  5.79471e-15\n",
       " -2.51104e-14\n",
       " -9.65786e-15\n",
       " -1.93157e-15\n",
       "  1.93157e-15\n",
       "  0.0        "
      ]
     },
     "execution_count": 38,
     "metadata": {},
     "output_type": "execute_result"
    }
   ],
   "source": [
    "biseccion(2,-6)"
   ]
  },
  {
   "cell_type": "code",
   "execution_count": 39,
   "metadata": {
    "collapsed": false
   },
   "outputs": [
    {
     "data": {
      "text/plain": [
       "50-element Array{Float64,1}:\n",
       "  1.31068    \n",
       "  0.563106   \n",
       "  0.18932    \n",
       "  0.00242662 \n",
       " -0.0910199  \n",
       " -0.0442967  \n",
       " -0.020935   \n",
       " -0.0092542  \n",
       " -0.00341379 \n",
       " -0.000493588\n",
       "  0.000966515\n",
       "  0.000236464\n",
       " -0.000128562\n",
       "  ⋮          \n",
       "  4.27336e-12\n",
       "  1.55371e-12\n",
       "  1.93881e-13\n",
       " -4.86032e-13\n",
       " -1.46075e-13\n",
       "  2.39032e-14\n",
       " -6.10859e-14\n",
       " -1.85914e-14\n",
       "  2.65591e-15\n",
       " -7.96773e-15\n",
       " -2.65591e-15\n",
       "  0.0        "
      ]
     },
     "execution_count": 39,
     "metadata": {},
     "output_type": "execute_result"
    }
   ],
   "source": [
    "biseccion(-4,7)"
   ]
  },
  {
   "cell_type": "code",
   "execution_count": 40,
   "metadata": {
    "collapsed": false
   },
   "outputs": [
    {
     "data": {
      "text/plain": [
       "50-element Array{Float64,1}:\n",
       "  0.617475   \n",
       " -0.109709   \n",
       "  0.253883   \n",
       "  0.0720868  \n",
       " -0.0188112  \n",
       "  0.0266378  \n",
       "  0.00391327 \n",
       " -0.00744898 \n",
       " -0.00176786 \n",
       "  0.0010727  \n",
       " -0.000347577\n",
       "  0.000362563\n",
       "  7.49307e-6 \n",
       "  ⋮          \n",
       "  1.65089e-12\n",
       " -9.94518e-13\n",
       "  3.28126e-13\n",
       " -3.33196e-13\n",
       " -2.53519e-15\n",
       "  1.62735e-13\n",
       "  8.01602e-14\n",
       "  3.88729e-14\n",
       "  1.81085e-14\n",
       "  7.72629e-15\n",
       "  2.65591e-15\n",
       "  0.0        "
      ]
     },
     "execution_count": 40,
     "metadata": {},
     "output_type": "execute_result"
    }
   ],
   "source": [
    "biseccion(0.3,11)"
   ]
  },
  {
   "cell_type": "code",
   "execution_count": 41,
   "metadata": {
    "collapsed": true
   },
   "outputs": [],
   "source": [
    "list1=biseccion(0,5);\n",
    "list2=biseccion(2,-6);\n",
    "list3=biseccion(-4,7);\n",
    "list4=biseccion(0.3,11);"
   ]
  },
  {
   "cell_type": "code",
   "execution_count": 42,
   "metadata": {
    "collapsed": false
   },
   "outputs": [
    {
     "name": "stderr",
     "output_type": "stream",
     "text": [
      "\u001b[1m\u001b[36mINFO: \u001b[39m\u001b[22m\u001b[36mPackage PyPlot is already installed\n",
      "\u001b[39m\u001b[1m\u001b[36mINFO: \u001b[39m\u001b[22m\u001b[36mMETADATA is out-of-date — you may not have the latest version of PyPlot\n",
      "\u001b[39m\u001b[1m\u001b[36mINFO: \u001b[39m\u001b[22m\u001b[36mUse `Pkg.update()` to get the latest versions of your packages\n",
      "\u001b[39m"
     ]
    }
   ],
   "source": [
    "Pkg.add(\"PyPlot\")"
   ]
  },
  {
   "cell_type": "code",
   "execution_count": 43,
   "metadata": {
    "collapsed": true
   },
   "outputs": [],
   "source": [
    "using PyPlot"
   ]
  },
  {
   "cell_type": "code",
   "execution_count": 44,
   "metadata": {
    "collapsed": false
   },
   "outputs": [
    {
     "data": {
      "image/png": "[encoded data removed]",
      "text/plain": [
       "PyPlot.Figure(PyObject <matplotlib.figure.Figure object at 0x7fe1b5102a50>)"
      ]
     },
     "metadata": {},
     "output_type": "display_data"
    }
   ],
   "source": [
    "yscale(\"symlog\", linthreshy=0.05)\n",
    "plot(real(list1))\n",
    "plot(real(list2))\n",
    "plot(real(list3))\n",
    "plot(real(list4))\n",
    "show();"
   ]
  },
  {
   "cell_type": "markdown",
   "metadata": {},
   "source": [
    "# Ejercicio 2\n",
    "Ejercico 2.1 Crear una función en Julia que implemente el método de Newton para funciones arbitrarias. Para ejemplicar a este ejercicio se utilizó la función f(x)=x^2."
   ]
  },
  {
   "cell_type": "code",
   "execution_count": 3,
   "metadata": {
    "collapsed": false
   },
   "outputs": [
    {
     "name": "stderr",
     "output_type": "stream",
     "text": [
      "\u001b[1m\u001b[36mINFO: \u001b[39m\u001b[22m\u001b[36mPackage SymPy is already installed\n",
      "\u001b[39m\u001b[1m\u001b[36mINFO: \u001b[39m\u001b[22m\u001b[36mMETADATA is out-of-date — you may not have the latest version of SymPy\n",
      "\u001b[39m\u001b[1m\u001b[36mINFO: \u001b[39m\u001b[22m\u001b[36mUse `Pkg.update()` to get the latest versions of your packages\n",
      "\u001b[39m"
     ]
    }
   ],
   "source": [
    "Pkg.add(\"SymPy\")"
   ]
  },
  {
   "cell_type": "code",
   "execution_count": 4,
   "metadata": {
    "collapsed": true
   },
   "outputs": [],
   "source": [
    "using SymPy"
   ]
  },
  {
   "cell_type": "code",
   "execution_count": 5,
   "metadata": {
    "collapsed": false
   },
   "outputs": [
    {
     "data": {
      "text/latex": [
       "$$x$$"
      ],
      "text/plain": [
       "x"
      ]
     },
     "execution_count": 5,
     "metadata": {},
     "output_type": "execute_result"
    }
   ],
   "source": [
    "x=symbols(\"x\")"
   ]
  },
  {
   "cell_type": "code",
   "execution_count": 6,
   "metadata": {
    "collapsed": false
   },
   "outputs": [
    {
     "data": {
      "text/plain": [
       "f (generic function with 1 method)"
      ]
     },
     "execution_count": 6,
     "metadata": {},
     "output_type": "execute_result"
    }
   ],
   "source": [
    "function f(x)\n",
    "    return x^2\n",
    "end"
   ]
  },
  {
   "cell_type": "code",
   "execution_count": 7,
   "metadata": {
    "collapsed": false
   },
   "outputs": [
    {
     "data": {
      "text/plain": [
       "9"
      ]
     },
     "execution_count": 7,
     "metadata": {},
     "output_type": "execute_result"
    }
   ],
   "source": [
    "f(3)"
   ]
  },
  {
   "cell_type": "code",
   "execution_count": 8,
   "metadata": {
    "collapsed": false
   },
   "outputs": [
    {
     "data": {
      "text/latex": [
       "$$2 x$$"
      ],
      "text/plain": [
       "2*x"
      ]
     },
     "execution_count": 8,
     "metadata": {},
     "output_type": "execute_result"
    }
   ],
   "source": [
    "g=simplify(diff(f(x),x))"
   ]
  },
  {
   "cell_type": "code",
   "execution_count": 9,
   "metadata": {
    "collapsed": false
   },
   "outputs": [
    {
     "data": {
      "text/latex": [
       "$$6$$"
      ],
      "text/plain": [
       "6"
      ]
     },
     "execution_count": 9,
     "metadata": {},
     "output_type": "execute_result"
    }
   ],
   "source": [
    "g(3)"
   ]
  },
  {
   "cell_type": "code",
   "execution_count": 10,
   "metadata": {
    "collapsed": false
   },
   "outputs": [
    {
     "name": "stdout",
     "output_type": "stream",
     "text": [
      "g = 2*x\n"
     ]
    },
    {
     "name": "stderr",
     "output_type": "stream",
     "text": [
      "WARNING: Compat.UTF8String is deprecated, use String instead.\n",
      "  likely near In[10]:243\n",
      "WARNING: Compat.UTF8String is deprecated, use String instead.\n",
      "  likely near In[10]:243\n",
      "WARNING: Compat.UTF8String is deprecated, use String instead.\n",
      "  likely near In[10]:243\n",
      "in jprint at /home/juser/.julia/v0.6/SymPy/src/display.jl\n"
     ]
    },
    {
     "data": {
      "text/latex": [
       "$$2 x$$"
      ],
      "text/plain": [
       "2*x"
      ]
     },
     "execution_count": 10,
     "metadata": {},
     "output_type": "execute_result"
    }
   ],
   "source": [
    "@show g"
   ]
  },
  {
   "cell_type": "code",
   "execution_count": 11,
   "metadata": {
    "collapsed": true
   },
   "outputs": [],
   "source": [
    "df=lambdify(g,[x]);"
   ]
  },
  {
   "cell_type": "code",
   "execution_count": 12,
   "metadata": {
    "collapsed": false
   },
   "outputs": [
    {
     "data": {
      "text/plain": [
       "0.2"
      ]
     },
     "execution_count": 12,
     "metadata": {},
     "output_type": "execute_result"
    }
   ],
   "source": [
    "df(0.1)"
   ]
  },
  {
   "cell_type": "code",
   "execution_count": 13,
   "metadata": {
    "collapsed": false
   },
   "outputs": [
    {
     "data": {
      "text/plain": [
       "metodo_newton (generic function with 1 method)"
      ]
     },
     "execution_count": 13,
     "metadata": {},
     "output_type": "execute_result"
    }
   ],
   "source": [
    "#Este programa toma como argumentos iniciales tanto a la función, su derivada y la condición inicial y devuelve una raíz. La función y la derivada ya se hicieron variables simbolicas en pasos anteriores.\n",
    "function metodo_newton(f,df,s)\n",
    "    z=s;\n",
    "    for i in 1:100\n",
    "        z=z-(f(z)/df(z));\n",
    "    end\n",
    "    return z\n",
    "end"
   ]
  },
  {
   "cell_type": "code",
   "execution_count": 120,
   "metadata": {
    "collapsed": false
   },
   "outputs": [
    {
     "data": {
      "text/latex": [
       "$$\\frac{1}{633825300114114700748351602688}$$"
      ],
      "text/plain": [
       "1/633825300114114700748351602688"
      ]
     },
     "execution_count": 120,
     "metadata": {},
     "output_type": "execute_result"
    }
   ],
   "source": [
    "metodo_newton(f,g,2)"
   ]
  },
  {
   "cell_type": "markdown",
   "metadata": {
    "collapsed": true
   },
   "source": [
    "Ejercico 2.2 Se hizo la misma función pero en lugar de tomar como argumento una condición inicial como en el ejercicio anterior, ahora va tomar un rango amplio de condiciones iniciales; para formar un inetervalo de condiciones inciales se utilizó un linspace. En la salida se obtienen las raices correspondientes a cada condición inicial, es decir por cada conción incial le correponde una raíz."
   ]
  },
  {
   "cell_type": "code",
   "execution_count": 16,
   "metadata": {
    "collapsed": false
   },
   "outputs": [
    {
     "data": {
      "text/latex": [
       "\\begin{bmatrix}7.88860905221012 \\cdot 10^{-31}\\\\1.1625318603257 \\cdot 10^{-30}\\\\1.53620281543039 \\cdot 10^{-30}\\\\1.90987377053508 \\cdot 10^{-30}\\\\2.28354472563977 \\cdot 10^{-30}\\\\2.65721568074446 \\cdot 10^{-30}\\\\3.03088663584915 \\cdot 10^{-30}\\\\3.40455759095384 \\cdot 10^{-30}\\\\3.77822854605853 \\cdot 10^{-30}\\\\4.15189950116322 \\cdot 10^{-30}\\\\4.52557045626791 \\cdot 10^{-30}\\\\4.8992414113726 \\cdot 10^{-30}\\\\5.27291236647729 \\cdot 10^{-30}\\\\5.64658332158198 \\cdot 10^{-30}\\\\6.02025427668667 \\cdot 10^{-30}\\\\6.39392523179136 \\cdot 10^{-30}\\\\6.76759618689605 \\cdot 10^{-30}\\\\7.14126714200074 \\cdot 10^{-30}\\\\7.51493809710543 \\cdot 10^{-30}\\\\7.88860905221012 \\cdot 10^{-30}\\end{bmatrix}"
      ],
      "text/plain": [
       "20-element Array{SymPy.Sym,1}:\n",
       " 7.88860905221012e-31\n",
       " 1.16253186032570e-30\n",
       " 1.53620281543039e-30\n",
       " 1.90987377053508e-30\n",
       " 2.28354472563977e-30\n",
       " 2.65721568074446e-30\n",
       " 3.03088663584915e-30\n",
       " 3.40455759095384e-30\n",
       " 3.77822854605853e-30\n",
       " 4.15189950116322e-30\n",
       " 4.52557045626791e-30\n",
       " 4.89924141137260e-30\n",
       " 5.27291236647729e-30\n",
       " 5.64658332158198e-30\n",
       " 6.02025427668667e-30\n",
       " 6.39392523179136e-30\n",
       " 6.76759618689605e-30\n",
       " 7.14126714200074e-30\n",
       " 7.51493809710543e-30\n",
       " 7.88860905221012e-30"
      ]
     },
     "execution_count": 16,
     "metadata": {},
     "output_type": "execute_result"
    }
   ],
   "source": [
    "metodo_newton.(f,g,linspace(1,10,20))"
   ]
  },
  {
   "cell_type": "markdown",
   "metadata": {},
   "source": [
    "Ejercicio 2.3 Se creó la misma rutina que en el ejercicio anterior, pero esta vez en lugar de dar como output todo el vector de raices, ahora con una nueva rutina se obtuvo una lista con la raices que son diferentes hasta un épsilon=e."
   ]
  },
  {
   "cell_type": "code",
   "execution_count": 107,
   "metadata": {
    "collapsed": false
   },
   "outputs": [
    {
     "data": {
      "text/plain": [
       "1.0:1.0:10.0"
      ]
     },
     "execution_count": 107,
     "metadata": {},
     "output_type": "execute_result"
    }
   ],
   "source": [
    "a=linspace(1,10,10) #Se declara a la variable a como el intervalo de condicones iniciales"
   ]
  },
  {
   "cell_type": "code",
   "execution_count": 108,
   "metadata": {
    "collapsed": false
   },
   "outputs": [
    {
     "data": {
      "text/plain": [
       "metodo3_newton (generic function with 1 method)"
      ]
     },
     "execution_count": 108,
     "metadata": {},
     "output_type": "execute_result"
    }
   ],
   "source": [
    "function metodo3_newton(f,df,s)\n",
    "    z=s;\n",
    "    for i in 1:200\n",
    "        z=z-(f(z)/df(z));\n",
    "    end\n",
    "    return z\n",
    "end"
   ]
  },
  {
   "cell_type": "code",
   "execution_count": 109,
   "metadata": {
    "collapsed": false
   },
   "outputs": [
    {
     "data": {
      "text/plain": [
       "10-element Array{Float64,1}:\n",
       " 6.22302e-61\n",
       " 1.2446e-60 \n",
       " 1.8669e-60 \n",
       " 2.48921e-60\n",
       " 3.11151e-60\n",
       " 3.73381e-60\n",
       " 4.35611e-60\n",
       " 4.97841e-60\n",
       " 5.60071e-60\n",
       " 6.22302e-60"
      ]
     },
     "execution_count": 109,
     "metadata": {},
     "output_type": "execute_result"
    }
   ],
   "source": [
    "metodo3_newton.(f,df,a)"
   ]
  },
  {
   "cell_type": "code",
   "execution_count": 122,
   "metadata": {
    "collapsed": false
   },
   "outputs": [
    {
     "data": {
      "text/plain": [
       "metodo3a_newton (generic function with 1 method)"
      ]
     },
     "execution_count": 122,
     "metadata": {},
     "output_type": "execute_result"
    }
   ],
   "source": [
    "function metodo3a_newton(Z)\n",
    "    list=metodo3_newton.(f,df,Z)\n",
    "    t=[]\n",
    "    n=1\n",
    "    e=0.0000001\n",
    "    push!(t,list[1]) #se usó un push! para ir guardando las raíces en un vector inicializado como t=[]\n",
    "    for i in 1:length(list)\n",
    "        if abs(t[n]-list[i])>=e\n",
    "            push!(t,list[i])\n",
    "        end\n",
    "    end\n",
    "    \n",
    "    return t\n",
    "end"
   ]
  },
  {
   "cell_type": "code",
   "execution_count": 123,
   "metadata": {
    "collapsed": false
   },
   "outputs": [
    {
     "data": {
      "text/plain": [
       "1-element Array{Any,1}:\n",
       " 6.22302e-61"
      ]
     },
     "execution_count": 123,
     "metadata": {},
     "output_type": "execute_result"
    }
   ],
   "source": [
    "metodo3a_newton(a)"
   ]
  },
  {
   "cell_type": "markdown",
   "metadata": {},
   "source": [
    "Ejercicio 2.4 Por último se desarrolló una función similar a la anterior, siguiendo los mismos pasos, pero esta vez los inputs de la función del método son solamente la función y la condición inicial. Para la derivada se utilizó SymPy internamente dentro de la rutina, a diferencia del ejercicio 2.2 en donde fuera de la rutina se hizo la misma declaración para la derivada."
   ]
  },
  {
   "cell_type": "code",
   "execution_count": 114,
   "metadata": {
    "collapsed": false
   },
   "outputs": [
    {
     "data": {
      "text/plain": [
       "metodo4_newton (generic function with 1 method)"
      ]
     },
     "execution_count": 114,
     "metadata": {},
     "output_type": "execute_result"
    }
   ],
   "source": [
    "function metodo4_newton(f,s)\n",
    "    x=symbols(\"x\")\n",
    "    g=simplify(diff(f(x),x))\n",
    "    df=lambdify(g,[x]);\n",
    "    z=s\n",
    "    for i in 1:200\n",
    "        z=z-(f(z)/df(z));\n",
    "    end\n",
    "    return z\n",
    "end\n",
    "    "
   ]
  },
  {
   "cell_type": "code",
   "execution_count": 115,
   "metadata": {
    "collapsed": false
   },
   "outputs": [
    {
     "data": {
      "text/plain": [
       "1.8669045833583425e-60"
      ]
     },
     "execution_count": 115,
     "metadata": {},
     "output_type": "execute_result"
    }
   ],
   "source": [
    "metodo4_newton(f,3)"
   ]
  },
  {
   "cell_type": "code",
   "execution_count": 121,
   "metadata": {
    "collapsed": false
   },
   "outputs": [
    {
     "data": {
      "text/plain": [
       "metodo4a_newton (generic function with 1 method)"
      ]
     },
     "execution_count": 121,
     "metadata": {},
     "output_type": "execute_result"
    }
   ],
   "source": [
    "function metodo4a_newton(Z)\n",
    "    list=metodo4_newton.(f,Z)\n",
    "    t=[]\n",
    "    n=1\n",
    "    e=0.0000001\n",
    "    push!(t,list[1])  #se usó un push! para ir guardando las raíces en un vector inicializado como t=[]\n",
    "    for i in 1:length(list)\n",
    "        if abs(t[n]-list[i])>=e\n",
    "            push!(t,list[i])\n",
    "        end\n",
    "    end\n",
    "        return t\n",
    "    end"
   ]
  },
  {
   "cell_type": "code",
   "execution_count": 117,
   "metadata": {
    "collapsed": false
   },
   "outputs": [
    {
     "data": {
      "text/plain": [
       "1-element Array{Any,1}:\n",
       " 6.22302e-61"
      ]
     },
     "execution_count": 117,
     "metadata": {},
     "output_type": "execute_result"
    }
   ],
   "source": [
    "metodo4a_newton(a)"
   ]
  },
  {
   "cell_type": "code",
   "execution_count": null,
   "metadata": {
    "collapsed": true
   },
   "outputs": [],
   "source": []
  }
 ],
 "metadata": {
  "kernelspec": {
   "display_name": "Julia 0.6.0",
   "language": "julia",
   "name": "julia-0.6"
  },
  "language_info": {
   "file_extension": ".jl",
   "mimetype": "application/julia",
   "name": "julia",
   "version": "0.6.0"
  }
 },
 "nbformat": 4,
 "nbformat_minor": 2
}
