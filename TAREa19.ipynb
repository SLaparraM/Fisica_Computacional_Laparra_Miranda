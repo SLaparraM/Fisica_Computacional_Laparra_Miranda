{
 "cells": [
  {
   "cell_type": "markdown",
   "metadata": {},
   "source": [
    "# Ejercicio 1.\n",
    "\n",
    "Escriba la forma del operador laplaciano utilizando diferencias finitas simétricas. Es decir, discretice: $\\nabla^2=\\frac{\\partial^2 f}{\\partial x^2}+\\frac{\\partial^2 f}{\\partial y^2}+\\frac{\\partial^2 f}{\\partial z^2}$"
   ]
  },
  {
   "cell_type": "markdown",
   "metadata": {},
   "source": [
    "En la Tarea_8 se exploraron las diferencias finitas en una dimensiòn, asì que de la misma forma podemos partir obteniendo la derivada de orden dos en una dimensiòn, entonces del desarrollo de la serie de Taylor sera\n",
    "\n",
    "$$f(x+h)=f(x)+hf'(x)+\\frac{h^2}{2!}f''(x)+\\frac{h^3}{3!}f'''(x)+\\frac{h^4}{4!}f^{iv}(\\epsilon_{p})$$\n",
    "$$f(x-h)=f(x)-hf'(x)+\\frac{h^2}{2!}f''(x)-\\frac{h^3}{3!}f'''(x)+\\frac{h^4}{4!}f^{iv}(\\epsilon_{r})$$\n",
    "\n",
    "sumando este par de ecuaciones para obtener la aproximaciòn a la segunda derivada, tenemos\n",
    "\n",
    "$$f''(x)=\\frac{f(x-h)-2f(x)+f(x+h)}{h^2}-\\frac{h^2}{4!}(f^{iv}(\\epsilon_{p})+f^{iv}(\\epsilon_{r}))$$\n",
    "\n",
    "de esta forma la aproximaciòn a la segunda derivada usando diferencias finitas, con error de truncamiento $O_{c}(h^2)$ es\n",
    "\n",
    "$$f''(x)\\approx\\frac{f(x-h)-2f(x)+f(x+h)}{h^2}\\;(1)$$\n",
    "\n",
    "Utilizando la ecuaciòn $(1)$ se obtendrà la aproximaciòn a las segundas derivadas parciales en tres variables $x,y,z$ .En este acaso lo que se hace es mantener dos de las tres variables fijas. Sea $f(x,y,z)\\in{C^2}$.\n",
    "\n",
    "Si mantenemos $y,z$ fijas se tiene que\n",
    "\n",
    "$$\\frac{\\partial^2 f}{\\partial x^2}\\approx\\frac{f(x-h_{1},y,z)-2f(x,y,z)+f(x+h_{1},y,z)}{h^{2}_{1}}$$\n",
    "\n",
    "Ahora se mantienen fijas $x,z$\n",
    "\n",
    "$$\\frac{\\partial^2 f}{\\partial y^2}\\approx\\frac{f(x,y-h_{2},z)-2f(x,y,z)+f(x,y+h_{2},z)}{h^{2}_{2}}$$\n",
    "\n",
    "y por ùltimo se mantienen fijas $x,y$\n",
    "\n",
    "$$\\frac{\\partial^2 f}{\\partial z^2}\\approx\\frac{f(x,y,z-h_{3})-2f(x,y,z)+f(x,y,z+h_{3})}{h^{2}_{3}}$$\n",
    "\n",
    "Entonces usando lo desarrollado en diferencias finitas para las parciales en tres dimensiones, tenemos que para el $n-esimo\\;nodo$ $\\vec{\\mathbf{x}}=(x_{i},y_{j},z_{k})$, por lo tanto se tiene que \n",
    "para x\n",
    "$$\\frac{\\partial^2 f(x_{i},y_{j},z_{k})}{\\partial x^2}\\approx\\frac{f_{i-1,j,k}-2f_{i,j,k}+f_{i+1,j,k}}{h^{2}_{1}}$$\n",
    "para y\n",
    "$$\\frac{\\partial^2 f}{\\partial y^2}\\approx\\frac{f_{i,j-1,k}-2f_{i,j,k}+f_{i,j+1,k}}{h^{2}_{2}}$$\n",
    "para z\n",
    "$$\\frac{\\partial^2 f}{\\partial z^2}\\approx\\frac{f_{i,j,k-1}-2f_{i,j,k}+f_{i,j,k+1}}{h^{2}_{3}}$$\n",
    "\n",
    "donde $h_{1},h_{2}.h_{3}$ son las distancias entre nodos en los ejes $x,y,z$ respectivamente.\n",
    "\n",
    "Sustituimos las derivadas parciales de segundo orden obtenidas en el operador Laplaciano $\\nabla^2f(x,y,z)$, entonces\n",
    "\n",
    "$$\\nabla^2f(x,y,z)=\\frac{f_{i-1,j,k}-2f_{i,j,k}+f_{i+1,j,k}}{h^{2}_{1}}+\\frac{f_{i,j-1,k}-2f_{i,j,k}+f_{i,j+1,k}}{h^{2}_{2}}+\\frac{f_{i,j,k-1}-2f_{i,j,k}+f_{i,j,k+1}}{h^{2}_{3}}$$"
   ]
  },
  {
   "cell_type": "markdown",
   "metadata": {},
   "source": [
    "# Ejercicio 2 (condiciones a la frontera de Dirichlet)\n",
    "\n",
    "Discretice la ecuación $$ \\frac{d^2f}{dx^2}, $$ en el intervalo $[0,1]$, y aplicando el operador laplaciano discretizado obtenga el sistema de ecuaciones algebraicas lineales correspondientes al problema de Dirichlet: $f(0) = a$ y $f(1) = b$ dividiendo el intervalo $[0,1]$ en $5$ puntos separados por $h$."
   ]
  },
  {
   "cell_type": "markdown",
   "metadata": {},
   "source": [
    "En el Ejercicio 1 se obtuvo la discretizaciòn de la ecuaciòn de Laplace para la componente x, la cual es\n",
    "\n",
    "$$\\frac{\\partial^2 f(x_{i},y_{j},z_{k})}{\\partial x^2}\\approx\\frac{f_{i-1,j,k}-2f_{i,j,k}+f_{i+1,j,k}}{h^{2}_{1}}=0$$\n",
    "\n",
    "El intervalo $[0,1]$ se divide en 5 puntos sepeardos por h, asi se tiene que $i=0,1,2,3,4,5$; sustituyendo en la ecuaciòn anterior se obtiene el sistemas de ecuacines algebraicas lineales\n",
    "$$f_{0}-2f_{1}+f_{2}=0,\\;f_{1}-2f_{2}+f_{3}=0,\\;f_{2}-2f_{3}+f_{4}=0,\\;f_{3}-2f_{4}+f_{5}=0$$\n",
    "\n",
    "\n",
    "Aplicamos la condciciòn de Dirichlet: $f(0) = a$ y $f(1) = b$, entonces\n",
    "$$a-2f_{1}+f_{2}=0,\\;f_{1}-2f_{2}+f_{3}=0,\\;f_{2}-2f_{3}+f_{4}=0,\\;f_{3}-2f_{4}+b=0$$\n"
   ]
  },
  {
   "cell_type": "markdown",
   "metadata": {},
   "source": [
    "# Ejercicio 3 (condiciones a la frontera de Neumann)\n",
    "\n",
    "Hacer lo mismo para condiciones de Neumann, es decir, fijando en los extremos el valor de la primera derivada de la función. Para esto utilice la derivada hacia adeltante en las orillas, es decir, si $f'(0)=a$ y $f'(1)=b$, entonces $(f_1-f_0)/h=a$, etc. No olvide que debe resultar un sistema de ecuación cuya dimensión sea el número de incognitas."
   ]
  },
  {
   "cell_type": "markdown",
   "metadata": {},
   "source": [
    "Dado que $f'(0)=a$ y $f'(1)=b$ y utilizando la notacion de indices anterior, entonces\n",
    "\n",
    "$$\\frac{f_{1}-f_{0}}{h}=a,\\;\\frac{f_{5}-f_{4}}{h}=b$$\n",
    "\n",
    "Por lo tanto\n",
    "$$2f_{1}-f_{0}-f_{2}=0,\\;f_{1}-2f_{2}+f_{3}=0,\\;f_{2}-2f_{3}+f_{4}=0,\\;f_{3}-2f_{4}+f_{5}=0$$\n",
    "\n",
    "Utilizando la derivada hacia delante en las orillas, se tiene que\n",
    "$$f_{1}+a-f_{2}=0,\\;f_{1}-2f_{2}+f_{3}=0,\\;f_{2}-2f_{3}+f_{4}=0,\\;f_{3}-f_{4}+b=0$$\n"
   ]
  },
  {
   "cell_type": "markdown",
   "metadata": {},
   "source": [
    "# Ejercicio 4 (indexación)\n",
    "\n",
    "Julia es más eficiente si se utiliza un único índice para acceder a los elementos de una matriz, además que puede simplificar algunos problemas. Escribe una función $\\phi$ que traduzca un par de índices $i,j$ a un único índice $k$, es decir: $$\\phi: (i,j) \\mapsto k.$$ También encuentren $\\phi^{-1}$. Note que $\\phi$ deberá depender de las dimensiones del arreglo, por lo menos de una de ellas."
   ]
  },
  {
   "cell_type": "markdown",
   "metadata": {},
   "source": [
    "Sean los elementos de la matriz A de $mxn$ dados por $(i,j)$, donde el indice $i$ representa los renglones y el indice $j$ las columnas, entones se pueden denotar como\n",
    "\n",
    "$$A_{i,j}$$\n",
    "\n",
    "o tambien $A[i][j]$\n",
    "\n",
    "La matriz A se representará en la memoria por un bloque de $mxn$ conocido como ubicación de memoria secuencial. Sea $LA$ una matriz lineal en la memoria de la computadora y\n",
    "\n",
    "$$LOC(LA[j])=direccióndelelemento$$\n",
    "\n",
    "La computadora no necesita rastrear la dirección de cada elemento de $LA$, sino que necesita rastrear solo la dirección del primer elemento de la matriz denotada por $Base(LA)$ llamada la dirección base de $LA$\n",
    "\n",
    "$$LOC(LA[j])=Base(LA)+w(j-LB)$$\n",
    "\n",
    "donde $w$ es el número de palabras por celda de memoria del arreglo $LA$ o bien $w$ es el tamaño del tipo de datos.\n",
    "\n",
    "$$LOC(A[i,j])\\;de\\;A[i,j]$$\n",
    "\n",
    "Orden de columa mayor\n",
    "\n",
    "$$LOC(A[i,j])=Base(A)+w[m(j-LB)+(i-LB)]$$\n",
    "\n",
    "Orden de renglon mayor\n",
    "\n",
    "$$LOC(A[i,j])=Base(A)+w[n(i-LB)+(j-LB)]$$\n",
    "\n"
   ]
  },
  {
   "cell_type": "code",
   "execution_count": null,
   "metadata": {},
   "outputs": [],
   "source": []
  }
 ],
 "metadata": {
  "kernelspec": {
   "display_name": "Julia 0.5.2",
   "language": "julia",
   "name": "julia-0.5"
  },
  "language_info": {
   "file_extension": ".jl",
   "mimetype": "application/julia",
   "name": "julia",
   "version": "0.5.2"
  }
 },
 "nbformat": 4,
 "nbformat_minor": 2
}
